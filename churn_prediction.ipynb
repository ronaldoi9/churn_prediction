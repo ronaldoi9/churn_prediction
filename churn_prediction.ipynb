{
 "cells": [
  {
   "cell_type": "markdown",
   "id": "5cd5e7eb",
   "metadata": {
    "ExecuteTime": {
     "end_time": "2021-07-27T19:50:10.408092Z",
     "start_time": "2021-07-27T19:50:10.404670Z"
    }
   },
   "source": [
    "# 0.0 IMPORTS"
   ]
  },
  {
   "cell_type": "code",
   "execution_count": 96,
   "id": "2d872a8d",
   "metadata": {
    "ExecuteTime": {
     "end_time": "2021-08-06T02:27:36.811057Z",
     "start_time": "2021-08-06T02:27:36.803016Z"
    }
   },
   "outputs": [],
   "source": [
    "import pandas                as pd\n",
    "import seaborn               as sb\n",
    "import numpy                 as np\n",
    "import matplotlib.pyplot     as plt\n",
    "\n",
    "import inflection\n",
    "\n",
    "from scipy                   import stats        as ss\n",
    "from collections             import Counter\n",
    "from tabulate                import tabulate\n",
    "from sklearn.dummy           import DummyClassifier\n",
    "from sklearn.ensemble        import RandomForestClassifier\n",
    "from sklearn.neighbors       import KNeighborsClassifier\n",
    "from sklearn.svm             import SVC\n",
    "from xgboost                 import XGBClassifier\n",
    "from sklearn.preprocessing   import RobustScaler, MinMaxScaler,LabelEncoder\n",
    "from sklearn.model_selection import train_test_split, cross_val_predict\n",
    "from sklearn.metrics         import confusion_matrix, accuracy_score, classification_report, f1_score, cohen_kappa_score, roc_auc_score\n",
    "from boruta                  import BorutaPy\n",
    "from imblearn.over_sampling  import SMOTE\n",
    "\n",
    "from IPython.display         import Image\n",
    "from IPython.display         import HTML"
   ]
  },
  {
   "cell_type": "markdown",
   "id": "9eeee74a",
   "metadata": {},
   "source": [
    "## 0.1 Helper Functions"
   ]
  },
  {
   "cell_type": "code",
   "execution_count": 118,
   "id": "995a0042",
   "metadata": {
    "ExecuteTime": {
     "end_time": "2021-08-06T02:41:45.598758Z",
     "start_time": "2021-08-06T02:41:45.483903Z"
    }
   },
   "outputs": [],
   "source": [
    "def jupyter_settings():\n",
    "  \n",
    "    %matplotlib inline\n",
    "    %pylab inline\n",
    "  \n",
    "    plt.style.use( 'bmh' )\n",
    "    plt.rcParams['figure.figsize'] = [25,12]\n",
    "    plt.rcParams['font.size'] = 24\n",
    "  \n",
    "    display( HTML( '<style>.container { width: 100% !important; }</style>' ) )\n",
    "    pd.options.display.max_columns = None\n",
    "    pd.options.display.max_rows = None\n",
    "    pd.options.display.float_format = '{:.4f}'.format\n",
    "    pd.set_option( 'display.expand_frame_repr', False )\n",
    "  \n",
    "    sb.set()\n",
    "    \n",
    "def exited_ratio(df):\n",
    "    df['Exited Ratio'] = df.apply(lambda x: round(x['Exited']/(x['Renewed'] + x['Exited']), 3), axis=1)\n",
    "    return df\n",
    "\n",
    "def cramer_v( x, y ):\n",
    "    \n",
    "    cm = pd.crosstab( x, y ).to_numpy()\n",
    "    \n",
    "    n = cm.sum()\n",
    "    \n",
    "    r, k = cm.shape\n",
    "    \n",
    "    chi2 = ss.chi2_contingency( cm )[0]\n",
    "    chi2corr = max( 0 , chi2 - ( k-1 ) * ( r-1 ) / ( n-1 ) )\n",
    "    \n",
    "    kcorr = k - ( k-1 )**2 / ( n-1 )\n",
    "    rcorr = r - ( r-1 )**2 / ( n-1 )\n",
    "    \n",
    "\n",
    "    return np.sqrt( ( chi2corr/n ) / ( min( kcorr-1, rcorr-1 ) ) )\n",
    "\n",
    "def algorithm_performance(model_name, y_test, y_pred):\n",
    "    accuracy = accuracy_score(y_test,y_pred)\n",
    "    \n",
    "    confusion_mat = confusion_matrix(y_test,y_pred)\n",
    "    \n",
    "    f1 = f1_score(y_test, y_pred)\n",
    "    kappa = cohen_kappa_score(y_test, y_pred)\n",
    "    roc = roc_auc_score(y_test, y_pred)\n",
    "    \n",
    "    specificity = confusion_mat[0][0] / (confusion_mat[0][0] + confusion_mat[0][1])\n",
    "    sensitivity = confusion_mat[1][1] / (confusion_mat[1][0] + confusion_mat[1][1])\n",
    "    \n",
    "    plt.figure(figsize=(8,6))\n",
    "    ax = plt.subplot()\n",
    "    sb.heatmap(confusion_mat, annot=True, fmt='.0f', ax = ax, cmap='Greens', cbar=False);\n",
    "    ax.set_xlabel('Predicted')\n",
    "    ax.set_ylabel('True')\n",
    "    ax.set_title('Confusion Matrix')\n",
    "    ax.xaxis.set_ticklabels(['0', '1'])   \n",
    "    ax.yaxis.set_ticklabels(['0', '1'])\n",
    "    \n",
    "    return pd.DataFrame({'Accuracy': np.round(accuracy, 3), \n",
    "                         'Sensitivity': np.round(sensitivity, 3), \n",
    "                         'Specificity': np.round(specificity, 3),\n",
    "                         'F1': np.round(f1, 3),\n",
    "                         'ROC_AUC': np.round(roc, 3),\n",
    "                         'Kappa': np.round(kappa, 3)}, index=[model_name])\n",
    "\n",
    "def filter_columns_in_numpy(np_matrix, columns_boruta):\n",
    "    final_np_matrix = []\n",
    "    \n",
    "    cols_dict = {\n",
    "        'credit_score': 0,\n",
    "        'geography': 1,\n",
    "        'gender': 2,\n",
    "        'age': 3,\n",
    "        'tenure': 4, \n",
    "        'balance': 5,\n",
    "        'num_of_products': 6,\n",
    "        'has_cr_card': 7,\n",
    "        'is_active_member': 8,\n",
    "        'estimated_salary': 9,\n",
    "        'products_buyed_per_year': 10\n",
    "    }\n",
    "\n",
    "    indexes_to_filter = []\n",
    "    for column in columns_boruta:\n",
    "        indexes_to_filter.append(cols_dict[column])\n",
    "    \n",
    "    for array in np_matrix:\n",
    "        final_np_matrix.append(array[indexes_to_filter])\n",
    "    return final_np_matrix"
   ]
  },
  {
   "cell_type": "code",
   "execution_count": 3,
   "id": "6bf47b9c",
   "metadata": {
    "ExecuteTime": {
     "end_time": "2021-08-06T00:49:15.750870Z",
     "start_time": "2021-08-06T00:49:15.673556Z"
    }
   },
   "outputs": [
    {
     "name": "stdout",
     "output_type": "stream",
     "text": [
      "Populating the interactive namespace from numpy and matplotlib\n"
     ]
    },
    {
     "data": {
      "text/html": [
       "<style>.container { width: 100% !important; }</style>"
      ],
      "text/plain": [
       "<IPython.core.display.HTML object>"
      ]
     },
     "metadata": {},
     "output_type": "display_data"
    }
   ],
   "source": [
    "jupyter_settings()"
   ]
  },
  {
   "cell_type": "markdown",
   "id": "6b7b8a60",
   "metadata": {},
   "source": [
    "## 0.2 Loading Data"
   ]
  },
  {
   "cell_type": "code",
   "execution_count": 4,
   "id": "75f7c72c",
   "metadata": {
    "ExecuteTime": {
     "end_time": "2021-08-06T00:49:15.867771Z",
     "start_time": "2021-08-06T00:49:15.752734Z"
    }
   },
   "outputs": [],
   "source": [
    "df_raw = pd.read_csv('data/churn.csv')\n",
    "df_raw = df_raw.drop(['RowNumber'], axis=1)"
   ]
  },
  {
   "cell_type": "markdown",
   "id": "38697fa1",
   "metadata": {
    "heading_collapsed": true
   },
   "source": [
    "# 1.0 DATA DESCRIPTION"
   ]
  },
  {
   "cell_type": "code",
   "execution_count": 5,
   "id": "065537a3",
   "metadata": {
    "ExecuteTime": {
     "end_time": "2021-08-06T00:49:15.876368Z",
     "start_time": "2021-08-06T00:49:15.869902Z"
    },
    "hidden": true
   },
   "outputs": [],
   "source": [
    "df1 = df_raw.copy()"
   ]
  },
  {
   "cell_type": "markdown",
   "id": "73abf12b",
   "metadata": {
    "hidden": true
   },
   "source": [
    "## 1.1 Rename Columns"
   ]
  },
  {
   "cell_type": "code",
   "execution_count": 6,
   "id": "5cd77189",
   "metadata": {
    "ExecuteTime": {
     "end_time": "2021-08-06T00:49:15.882867Z",
     "start_time": "2021-08-06T00:49:15.879176Z"
    },
    "hidden": true
   },
   "outputs": [],
   "source": [
    "old_columns = df1.columns\n",
    "\n",
    "snakecase = lambda x: inflection.underscore(x)\n",
    "\n",
    "new_columns = list( map(snakecase, old_columns) )\n",
    "\n",
    "#rename\n",
    "df1.columns = new_columns"
   ]
  },
  {
   "cell_type": "markdown",
   "id": "fd6790f8",
   "metadata": {
    "hidden": true
   },
   "source": [
    "## 1.2 Data Dimensions"
   ]
  },
  {
   "cell_type": "code",
   "execution_count": 7,
   "id": "0ffa2520",
   "metadata": {
    "ExecuteTime": {
     "end_time": "2021-08-06T00:49:15.909406Z",
     "start_time": "2021-08-06T00:49:15.884338Z"
    },
    "hidden": true
   },
   "outputs": [
    {
     "name": "stdout",
     "output_type": "stream",
     "text": [
      "Number of rows: 10000\n",
      "Number of columns: 13\n"
     ]
    }
   ],
   "source": [
    "print(f'Number of rows: {df1.shape[0]}')\n",
    "print(f'Number of columns: {df1.shape[1]}')"
   ]
  },
  {
   "cell_type": "markdown",
   "id": "d98a61ac",
   "metadata": {
    "hidden": true
   },
   "source": [
    "## 1.3 Data Types"
   ]
  },
  {
   "cell_type": "code",
   "execution_count": 8,
   "id": "7f5b0980",
   "metadata": {
    "ExecuteTime": {
     "end_time": "2021-08-06T00:49:15.918970Z",
     "start_time": "2021-08-06T00:49:15.912409Z"
    },
    "hidden": true
   },
   "outputs": [
    {
     "data": {
      "text/plain": [
       "customer_id           int64\n",
       "surname              object\n",
       "credit_score          int64\n",
       "geography            object\n",
       "gender               object\n",
       "age                   int64\n",
       "tenure                int64\n",
       "balance             float64\n",
       "num_of_products       int64\n",
       "has_cr_card           int64\n",
       "is_active_member      int64\n",
       "estimated_salary    float64\n",
       "exited                int64\n",
       "dtype: object"
      ]
     },
     "execution_count": 8,
     "metadata": {},
     "output_type": "execute_result"
    }
   ],
   "source": [
    "df1.dtypes"
   ]
  },
  {
   "cell_type": "markdown",
   "id": "3af5874f",
   "metadata": {
    "hidden": true
   },
   "source": [
    "## 1.4 Check NA"
   ]
  },
  {
   "cell_type": "code",
   "execution_count": 9,
   "id": "4b68b0f2",
   "metadata": {
    "ExecuteTime": {
     "end_time": "2021-08-06T00:49:15.930069Z",
     "start_time": "2021-08-06T00:49:15.920296Z"
    },
    "hidden": true,
    "scrolled": true
   },
   "outputs": [
    {
     "data": {
      "text/plain": [
       "customer_id         0\n",
       "surname             0\n",
       "credit_score        0\n",
       "geography           0\n",
       "gender              0\n",
       "age                 0\n",
       "tenure              0\n",
       "balance             0\n",
       "num_of_products     0\n",
       "has_cr_card         0\n",
       "is_active_member    0\n",
       "estimated_salary    0\n",
       "exited              0\n",
       "dtype: int64"
      ]
     },
     "execution_count": 9,
     "metadata": {},
     "output_type": "execute_result"
    }
   ],
   "source": [
    "df1.isna().sum()"
   ]
  },
  {
   "cell_type": "markdown",
   "id": "1c51ce63",
   "metadata": {
    "hidden": true
   },
   "source": [
    "## 1.5 Descriptive Statistical"
   ]
  },
  {
   "cell_type": "code",
   "execution_count": 10,
   "id": "f4e36aa5",
   "metadata": {
    "ExecuteTime": {
     "end_time": "2021-08-06T00:49:15.966083Z",
     "start_time": "2021-08-06T00:49:15.936931Z"
    },
    "hidden": true
   },
   "outputs": [],
   "source": [
    "# select numerical columns\n",
    "num_attributes = df1.select_dtypes(include=['int64', 'float64'])\n",
    "\n",
    "# select categorical columns\n",
    "cat_attributes = df1.select_dtypes(exclude=['int64', 'float64'])"
   ]
  },
  {
   "cell_type": "markdown",
   "id": "3f3a3098",
   "metadata": {
    "hidden": true
   },
   "source": [
    "### 1.5.1 Numerical Attributes"
   ]
  },
  {
   "cell_type": "code",
   "execution_count": 11,
   "id": "09f31f6d",
   "metadata": {
    "ExecuteTime": {
     "end_time": "2021-08-06T00:49:16.036589Z",
     "start_time": "2021-08-06T00:49:15.969073Z"
    },
    "hidden": true
   },
   "outputs": [],
   "source": [
    "# Central Tendency - Mean, Median\n",
    "ct1 = pd.DataFrame( num_attributes.apply( np.mean ) ).T\n",
    "ct2 = pd.DataFrame( num_attributes.apply( np.median ) ).T\n",
    "\n",
    "# Dispersion - Std, Min, Max, Range, Skew, Kurtosis\n",
    "d1 = pd.DataFrame( num_attributes.apply( np.std ) ).T\n",
    "d2 = pd.DataFrame( num_attributes.apply( min ) ).T\n",
    "d3 = pd.DataFrame( num_attributes.apply( max ) ).T\n",
    "d4 = pd.DataFrame( num_attributes.apply( lambda x: x.max() - x.min() ) ).T\n",
    "d5 = pd.DataFrame( num_attributes.apply( lambda x: x.skew() ) ).T\n",
    "d6 = pd.DataFrame( num_attributes.apply( lambda x: x.kurtosis() ) ).T\n",
    "\n",
    "# Concatenate\n",
    "metrics = pd.concat( [d2, d3, d4, ct1, ct2, d1, d5, d6] ).T.reset_index()\n",
    "metrics.columns = ( ['attributes', 'min', 'max', 'range', 'mean', 'median', 'std', 'skew', 'kurtosis'] )"
   ]
  },
  {
   "cell_type": "code",
   "execution_count": 12,
   "id": "ebf29853",
   "metadata": {
    "ExecuteTime": {
     "end_time": "2021-08-06T00:49:16.076827Z",
     "start_time": "2021-08-06T00:49:16.039155Z"
    },
    "hidden": true
   },
   "outputs": [
    {
     "data": {
      "text/html": [
       "<div>\n",
       "<style scoped>\n",
       "    .dataframe tbody tr th:only-of-type {\n",
       "        vertical-align: middle;\n",
       "    }\n",
       "\n",
       "    .dataframe tbody tr th {\n",
       "        vertical-align: top;\n",
       "    }\n",
       "\n",
       "    .dataframe thead th {\n",
       "        text-align: right;\n",
       "    }\n",
       "</style>\n",
       "<table border=\"1\" class=\"dataframe\">\n",
       "  <thead>\n",
       "    <tr style=\"text-align: right;\">\n",
       "      <th></th>\n",
       "      <th>attributes</th>\n",
       "      <th>min</th>\n",
       "      <th>max</th>\n",
       "      <th>range</th>\n",
       "      <th>mean</th>\n",
       "      <th>median</th>\n",
       "      <th>std</th>\n",
       "      <th>skew</th>\n",
       "      <th>kurtosis</th>\n",
       "    </tr>\n",
       "  </thead>\n",
       "  <tbody>\n",
       "    <tr>\n",
       "      <th>0</th>\n",
       "      <td>customer_id</td>\n",
       "      <td>15565701.0000</td>\n",
       "      <td>15815690.0000</td>\n",
       "      <td>249989.0000</td>\n",
       "      <td>15690940.5694</td>\n",
       "      <td>15690738.0000</td>\n",
       "      <td>71932.5892</td>\n",
       "      <td>0.0011</td>\n",
       "      <td>-1.1961</td>\n",
       "    </tr>\n",
       "    <tr>\n",
       "      <th>1</th>\n",
       "      <td>credit_score</td>\n",
       "      <td>350.0000</td>\n",
       "      <td>850.0000</td>\n",
       "      <td>500.0000</td>\n",
       "      <td>650.5288</td>\n",
       "      <td>652.0000</td>\n",
       "      <td>96.6485</td>\n",
       "      <td>-0.0716</td>\n",
       "      <td>-0.4257</td>\n",
       "    </tr>\n",
       "    <tr>\n",
       "      <th>2</th>\n",
       "      <td>age</td>\n",
       "      <td>18.0000</td>\n",
       "      <td>92.0000</td>\n",
       "      <td>74.0000</td>\n",
       "      <td>38.9218</td>\n",
       "      <td>37.0000</td>\n",
       "      <td>10.4873</td>\n",
       "      <td>1.0113</td>\n",
       "      <td>1.3953</td>\n",
       "    </tr>\n",
       "    <tr>\n",
       "      <th>3</th>\n",
       "      <td>tenure</td>\n",
       "      <td>0.0000</td>\n",
       "      <td>10.0000</td>\n",
       "      <td>10.0000</td>\n",
       "      <td>5.0128</td>\n",
       "      <td>5.0000</td>\n",
       "      <td>2.8920</td>\n",
       "      <td>0.0110</td>\n",
       "      <td>-1.1652</td>\n",
       "    </tr>\n",
       "    <tr>\n",
       "      <th>4</th>\n",
       "      <td>balance</td>\n",
       "      <td>0.0000</td>\n",
       "      <td>250898.0900</td>\n",
       "      <td>250898.0900</td>\n",
       "      <td>76485.8893</td>\n",
       "      <td>97198.5400</td>\n",
       "      <td>62394.2853</td>\n",
       "      <td>-0.1411</td>\n",
       "      <td>-1.4894</td>\n",
       "    </tr>\n",
       "    <tr>\n",
       "      <th>5</th>\n",
       "      <td>num_of_products</td>\n",
       "      <td>1.0000</td>\n",
       "      <td>4.0000</td>\n",
       "      <td>3.0000</td>\n",
       "      <td>1.5302</td>\n",
       "      <td>1.0000</td>\n",
       "      <td>0.5816</td>\n",
       "      <td>0.7456</td>\n",
       "      <td>0.5830</td>\n",
       "    </tr>\n",
       "    <tr>\n",
       "      <th>6</th>\n",
       "      <td>has_cr_card</td>\n",
       "      <td>0.0000</td>\n",
       "      <td>1.0000</td>\n",
       "      <td>1.0000</td>\n",
       "      <td>0.7055</td>\n",
       "      <td>1.0000</td>\n",
       "      <td>0.4558</td>\n",
       "      <td>-0.9018</td>\n",
       "      <td>-1.1870</td>\n",
       "    </tr>\n",
       "    <tr>\n",
       "      <th>7</th>\n",
       "      <td>is_active_member</td>\n",
       "      <td>0.0000</td>\n",
       "      <td>1.0000</td>\n",
       "      <td>1.0000</td>\n",
       "      <td>0.5151</td>\n",
       "      <td>1.0000</td>\n",
       "      <td>0.4998</td>\n",
       "      <td>-0.0604</td>\n",
       "      <td>-1.9967</td>\n",
       "    </tr>\n",
       "    <tr>\n",
       "      <th>8</th>\n",
       "      <td>estimated_salary</td>\n",
       "      <td>11.5800</td>\n",
       "      <td>199992.4800</td>\n",
       "      <td>199980.9000</td>\n",
       "      <td>100090.2399</td>\n",
       "      <td>100193.9150</td>\n",
       "      <td>57507.6172</td>\n",
       "      <td>0.0021</td>\n",
       "      <td>-1.1815</td>\n",
       "    </tr>\n",
       "    <tr>\n",
       "      <th>9</th>\n",
       "      <td>exited</td>\n",
       "      <td>0.0000</td>\n",
       "      <td>1.0000</td>\n",
       "      <td>1.0000</td>\n",
       "      <td>0.2037</td>\n",
       "      <td>0.0000</td>\n",
       "      <td>0.4027</td>\n",
       "      <td>1.4716</td>\n",
       "      <td>0.1657</td>\n",
       "    </tr>\n",
       "  </tbody>\n",
       "</table>\n",
       "</div>"
      ],
      "text/plain": [
       "         attributes           min           max       range          mean        median        std    skew  kurtosis\n",
       "0       customer_id 15565701.0000 15815690.0000 249989.0000 15690940.5694 15690738.0000 71932.5892  0.0011   -1.1961\n",
       "1      credit_score      350.0000      850.0000    500.0000      650.5288      652.0000    96.6485 -0.0716   -0.4257\n",
       "2               age       18.0000       92.0000     74.0000       38.9218       37.0000    10.4873  1.0113    1.3953\n",
       "3            tenure        0.0000       10.0000     10.0000        5.0128        5.0000     2.8920  0.0110   -1.1652\n",
       "4           balance        0.0000   250898.0900 250898.0900    76485.8893    97198.5400 62394.2853 -0.1411   -1.4894\n",
       "5   num_of_products        1.0000        4.0000      3.0000        1.5302        1.0000     0.5816  0.7456    0.5830\n",
       "6       has_cr_card        0.0000        1.0000      1.0000        0.7055        1.0000     0.4558 -0.9018   -1.1870\n",
       "7  is_active_member        0.0000        1.0000      1.0000        0.5151        1.0000     0.4998 -0.0604   -1.9967\n",
       "8  estimated_salary       11.5800   199992.4800 199980.9000   100090.2399   100193.9150 57507.6172  0.0021   -1.1815\n",
       "9            exited        0.0000        1.0000      1.0000        0.2037        0.0000     0.4027  1.4716    0.1657"
      ]
     },
     "execution_count": 12,
     "metadata": {},
     "output_type": "execute_result"
    }
   ],
   "source": [
    "metrics"
   ]
  },
  {
   "cell_type": "markdown",
   "id": "4a3eb456",
   "metadata": {
    "hidden": true
   },
   "source": [
    "### 1.5.2 Categorial Attributes"
   ]
  },
  {
   "cell_type": "code",
   "execution_count": 13,
   "id": "bf9cf7c6",
   "metadata": {
    "ExecuteTime": {
     "end_time": "2021-08-06T00:49:16.084466Z",
     "start_time": "2021-08-06T00:49:16.077964Z"
    },
    "hidden": true
   },
   "outputs": [
    {
     "data": {
      "text/plain": [
       "surname      2932\n",
       "geography       3\n",
       "gender          2\n",
       "dtype: int64"
      ]
     },
     "execution_count": 13,
     "metadata": {},
     "output_type": "execute_result"
    }
   ],
   "source": [
    "cat_attributes.apply( lambda x: x.unique().shape[0] )"
   ]
  },
  {
   "cell_type": "code",
   "execution_count": 14,
   "id": "4d7b595d",
   "metadata": {
    "ExecuteTime": {
     "end_time": "2021-08-06T00:49:16.097710Z",
     "start_time": "2021-08-06T00:49:16.085778Z"
    },
    "hidden": true
   },
   "outputs": [
    {
     "data": {
      "text/html": [
       "<div>\n",
       "<style scoped>\n",
       "    .dataframe tbody tr th:only-of-type {\n",
       "        vertical-align: middle;\n",
       "    }\n",
       "\n",
       "    .dataframe tbody tr th {\n",
       "        vertical-align: top;\n",
       "    }\n",
       "\n",
       "    .dataframe thead th {\n",
       "        text-align: right;\n",
       "    }\n",
       "</style>\n",
       "<table border=\"1\" class=\"dataframe\">\n",
       "  <thead>\n",
       "    <tr style=\"text-align: right;\">\n",
       "      <th></th>\n",
       "      <th>exited</th>\n",
       "    </tr>\n",
       "    <tr>\n",
       "      <th>geography</th>\n",
       "      <th></th>\n",
       "    </tr>\n",
       "  </thead>\n",
       "  <tbody>\n",
       "    <tr>\n",
       "      <th>France</th>\n",
       "      <td>5014</td>\n",
       "    </tr>\n",
       "    <tr>\n",
       "      <th>Germany</th>\n",
       "      <td>2509</td>\n",
       "    </tr>\n",
       "    <tr>\n",
       "      <th>Spain</th>\n",
       "      <td>2477</td>\n",
       "    </tr>\n",
       "  </tbody>\n",
       "</table>\n",
       "</div>"
      ],
      "text/plain": [
       "           exited\n",
       "geography        \n",
       "France       5014\n",
       "Germany      2509\n",
       "Spain        2477"
      ]
     },
     "execution_count": 14,
     "metadata": {},
     "output_type": "execute_result"
    }
   ],
   "source": [
    "# Country Distribution\n",
    "df1[['geography', 'exited']].groupby('geography').count()"
   ]
  },
  {
   "cell_type": "code",
   "execution_count": 15,
   "id": "8d9b99a7",
   "metadata": {
    "ExecuteTime": {
     "end_time": "2021-08-06T00:49:16.124187Z",
     "start_time": "2021-08-06T00:49:16.099827Z"
    },
    "hidden": true,
    "scrolled": true
   },
   "outputs": [
    {
     "data": {
      "text/html": [
       "<div>\n",
       "<style scoped>\n",
       "    .dataframe tbody tr th:only-of-type {\n",
       "        vertical-align: middle;\n",
       "    }\n",
       "\n",
       "    .dataframe tbody tr th {\n",
       "        vertical-align: top;\n",
       "    }\n",
       "\n",
       "    .dataframe thead th {\n",
       "        text-align: right;\n",
       "    }\n",
       "</style>\n",
       "<table border=\"1\" class=\"dataframe\">\n",
       "  <thead>\n",
       "    <tr style=\"text-align: right;\">\n",
       "      <th></th>\n",
       "      <th>exited</th>\n",
       "    </tr>\n",
       "    <tr>\n",
       "      <th>gender</th>\n",
       "      <th></th>\n",
       "    </tr>\n",
       "  </thead>\n",
       "  <tbody>\n",
       "    <tr>\n",
       "      <th>Female</th>\n",
       "      <td>4543</td>\n",
       "    </tr>\n",
       "    <tr>\n",
       "      <th>Male</th>\n",
       "      <td>5457</td>\n",
       "    </tr>\n",
       "  </tbody>\n",
       "</table>\n",
       "</div>"
      ],
      "text/plain": [
       "        exited\n",
       "gender        \n",
       "Female    4543\n",
       "Male      5457"
      ]
     },
     "execution_count": 15,
     "metadata": {},
     "output_type": "execute_result"
    }
   ],
   "source": [
    "# Gender Distribution\n",
    "df1[['gender', 'exited']].groupby('gender').count()"
   ]
  },
  {
   "cell_type": "markdown",
   "id": "3218ee11",
   "metadata": {
    "hidden": true
   },
   "source": [
    "### 1.5.3 Class Distribution"
   ]
  },
  {
   "cell_type": "code",
   "execution_count": 16,
   "id": "fd0c58d5",
   "metadata": {
    "ExecuteTime": {
     "end_time": "2021-08-06T00:49:16.131720Z",
     "start_time": "2021-08-06T00:49:16.125516Z"
    },
    "hidden": true
   },
   "outputs": [
    {
     "name": "stdout",
     "output_type": "stream",
     "text": [
      "Class=1, n=2037 (20.37)%\n",
      "Class=0, n=7963 (79.63)%\n"
     ]
    }
   ],
   "source": [
    "y = df1['exited'].values\n",
    "counter = Counter(y)\n",
    "for k, v in counter.items():\n",
    "    dist = v / len(y) * 100\n",
    "    print(f'Class={k}, n={v} ({round(dist,2)})%')"
   ]
  },
  {
   "cell_type": "markdown",
   "id": "ef4ef2cc",
   "metadata": {
    "heading_collapsed": true
   },
   "source": [
    "# 2.0 FEATURE ENGINEERING"
   ]
  },
  {
   "cell_type": "code",
   "execution_count": 17,
   "id": "45edbbd8",
   "metadata": {
    "ExecuteTime": {
     "end_time": "2021-08-06T00:49:16.139198Z",
     "start_time": "2021-08-06T00:49:16.134763Z"
    },
    "hidden": true
   },
   "outputs": [],
   "source": [
    "df2 = df1.copy()"
   ]
  },
  {
   "cell_type": "markdown",
   "id": "d0640996",
   "metadata": {
    "hidden": true
   },
   "source": [
    "## 2.1 Mind Map Hypothesis"
   ]
  },
  {
   "cell_type": "code",
   "execution_count": 18,
   "id": "3a7d7a38",
   "metadata": {
    "ExecuteTime": {
     "end_time": "2021-08-06T00:49:16.167535Z",
     "start_time": "2021-08-06T00:49:16.141554Z"
    },
    "hidden": true
   },
   "outputs": [
    {
     "data": {
      "image/png": "[encoded data removed]",
      "text/plain": [
       "<IPython.core.display.Image object>"
      ]
     },
     "execution_count": 18,
     "metadata": {},
     "output_type": "execute_result"
    }
   ],
   "source": [
    "Image('img/mind_map_hypothesis.png')"
   ]
  },
  {
   "cell_type": "markdown",
   "id": "715af7f3",
   "metadata": {
    "hidden": true
   },
   "source": [
    "### 2.1.1 Customer Hypothesis"
   ]
  },
  {
   "cell_type": "markdown",
   "id": "431814a6",
   "metadata": {
    "hidden": true
   },
   "source": [
    "**1.** Clientes com mais de 50 anos sempre renovam o contrato."
   ]
  },
  {
   "cell_type": "markdown",
   "id": "69ec88ef",
   "metadata": {
    "hidden": true
   },
   "source": [
    "**2.** Clientes com salário acima da média deveriam renovar o contrato."
   ]
  },
  {
   "cell_type": "markdown",
   "id": "52f1d080",
   "metadata": {
    "hidden": true
   },
   "source": [
    "**3.** Clientes com \"Credit Score\" acima da média deveriam renovar o contrato."
   ]
  },
  {
   "cell_type": "markdown",
   "id": "de12b80a",
   "metadata": {
    "hidden": true
   },
   "source": [
    "**4.** Clientes com balanço acima da média deveriam renovar o contrato."
   ]
  },
  {
   "cell_type": "markdown",
   "id": "3cca4b5a",
   "metadata": {
    "hidden": true
   },
   "source": [
    "**5.** Clientes com cartão de crédito deveriam renovar o contrato."
   ]
  },
  {
   "cell_type": "markdown",
   "id": "dad16ad1",
   "metadata": {
    "hidden": true
   },
   "source": [
    "### 2.1.2 Products Hypothesis"
   ]
  },
  {
   "cell_type": "markdown",
   "id": "e59a3474",
   "metadata": {
    "hidden": true
   },
   "source": [
    "**1.** Clientes que utilizam serviços com menores taxas renovam o contrato."
   ]
  },
  {
   "cell_type": "markdown",
   "id": "bba62884",
   "metadata": {
    "hidden": true
   },
   "source": [
    "**2.** Clientes que compram mais produtos renovam o contrato."
   ]
  },
  {
   "cell_type": "markdown",
   "id": "ac694cdf",
   "metadata": {
    "hidden": true
   },
   "source": [
    "**3.** Clientes que compram produtos com menores preços renovam o contrato."
   ]
  },
  {
   "cell_type": "markdown",
   "id": "b1332c24",
   "metadata": {
    "hidden": true
   },
   "source": [
    "**4.** Clientes que utilizam mais os serviços renovam o contrato."
   ]
  },
  {
   "cell_type": "markdown",
   "id": "b26f1610",
   "metadata": {
    "hidden": true
   },
   "source": [
    "### 2.1.3 Time Hypothesis"
   ]
  },
  {
   "cell_type": "markdown",
   "id": "31b9fdf2",
   "metadata": {
    "hidden": true
   },
   "source": [
    "**1.** Clientes que permaneceram ativo por mais tempo tendem a renovar o contrato."
   ]
  },
  {
   "cell_type": "markdown",
   "id": "dbc1a009",
   "metadata": {
    "hidden": true
   },
   "source": [
    "**2.** Clientes que movimentaram a conta nos últimos 12 meses tendem a renovar o contrato."
   ]
  },
  {
   "cell_type": "markdown",
   "id": "086af157",
   "metadata": {
    "hidden": true
   },
   "source": [
    "**3.** Clientes que compram pelo menos 3 vezes no ano tendem a renovar o contrato."
   ]
  },
  {
   "cell_type": "markdown",
   "id": "9363a7fd",
   "metadata": {
    "hidden": true
   },
   "source": [
    "### 2.1.4 Company Hypothesis"
   ]
  },
  {
   "cell_type": "markdown",
   "id": "e3e5db20",
   "metadata": {
    "hidden": true
   },
   "source": [
    "**1.** Serviços com maiores taxas fazem o cliente cancelar o contrato."
   ]
  },
  {
   "cell_type": "markdown",
   "id": "fb14bc5e",
   "metadata": {
    "hidden": true
   },
   "source": [
    "**2.** Descontos extendidos fazem o cliente renovar o contrato."
   ]
  },
  {
   "cell_type": "markdown",
   "id": "fd2e04d5",
   "metadata": {
    "hidden": true
   },
   "source": [
    "## 2.2 Final Hypothesis List"
   ]
  },
  {
   "cell_type": "markdown",
   "id": "6cec7708",
   "metadata": {
    "hidden": true
   },
   "source": [
    "**1.** Clientes com mais de 50 anos sempre renovam o contrato."
   ]
  },
  {
   "cell_type": "markdown",
   "id": "aa068566",
   "metadata": {
    "hidden": true
   },
   "source": [
    "**2.** Clientes com salário acima da média deveriam renovar o contrato."
   ]
  },
  {
   "cell_type": "markdown",
   "id": "ca5851f4",
   "metadata": {
    "hidden": true
   },
   "source": [
    "**3.** Clientes com \"Credit Score\" acima da média deveriam renovar o contrato."
   ]
  },
  {
   "cell_type": "markdown",
   "id": "cb332364",
   "metadata": {
    "hidden": true
   },
   "source": [
    "**4.** Clientes com balanço acima da média deveriam renovar o contrato."
   ]
  },
  {
   "cell_type": "markdown",
   "id": "82c680c2",
   "metadata": {
    "hidden": true
   },
   "source": [
    "**5.** Clientes com cartão de crédito deveriam renovar o contrato."
   ]
  },
  {
   "cell_type": "markdown",
   "id": "d113c879",
   "metadata": {
    "hidden": true
   },
   "source": [
    "**6.** Clientes que compram mais produtos renovam o contrato."
   ]
  },
  {
   "cell_type": "markdown",
   "id": "6973e561",
   "metadata": {
    "hidden": true
   },
   "source": [
    "**7.** Clientes que permaneceram ativo por mais tempo tendem a renovar o contrato."
   ]
  },
  {
   "cell_type": "markdown",
   "id": "ec473fed",
   "metadata": {
    "hidden": true
   },
   "source": [
    "**8.** Clientes que movimentaram a conta nos últimos 12 meses tendem a renovar o contrato."
   ]
  },
  {
   "cell_type": "markdown",
   "id": "b9e055ac",
   "metadata": {
    "hidden": true
   },
   "source": [
    "**9.** Clientes que compram pelo menos 3 vezes no ano tendem a renovar o contrato."
   ]
  },
  {
   "cell_type": "markdown",
   "id": "36e3e761",
   "metadata": {
    "hidden": true
   },
   "source": [
    "## 2.3 Feature Engineering"
   ]
  },
  {
   "cell_type": "code",
   "execution_count": 19,
   "id": "1e506143",
   "metadata": {
    "ExecuteTime": {
     "end_time": "2021-08-06T00:49:16.308846Z",
     "start_time": "2021-08-06T00:49:16.170067Z"
    },
    "hidden": true
   },
   "outputs": [],
   "source": [
    "df2['products_buyed_per_year'] = df2.apply(lambda x: 0 if x['tenure'] == 0 else x['num_of_products']/x['tenure'], axis=1)"
   ]
  },
  {
   "cell_type": "markdown",
   "id": "fb3228bd",
   "metadata": {
    "heading_collapsed": true
   },
   "source": [
    "# 3.0 FILTERING VARIABLES"
   ]
  },
  {
   "cell_type": "code",
   "execution_count": 20,
   "id": "efe0f08a",
   "metadata": {
    "ExecuteTime": {
     "end_time": "2021-08-06T00:49:16.313985Z",
     "start_time": "2021-08-06T00:49:16.310094Z"
    },
    "hidden": true
   },
   "outputs": [],
   "source": [
    "df3 = df2.copy()"
   ]
  },
  {
   "cell_type": "markdown",
   "id": "4077bde1",
   "metadata": {
    "hidden": true
   },
   "source": [
    "## 3.1 Columns Selection"
   ]
  },
  {
   "cell_type": "code",
   "execution_count": 21,
   "id": "feeaf8e8",
   "metadata": {
    "ExecuteTime": {
     "end_time": "2021-08-06T00:49:16.321726Z",
     "start_time": "2021-08-06T00:49:16.315683Z"
    },
    "hidden": true
   },
   "outputs": [],
   "source": [
    "df3.drop(columns=['customer_id','surname'], axis=1, inplace=True)"
   ]
  },
  {
   "cell_type": "markdown",
   "id": "53d409f1",
   "metadata": {
    "heading_collapsed": true
   },
   "source": [
    "# 4.0 EXPLORATORY DATA ANALYSIS"
   ]
  },
  {
   "cell_type": "code",
   "execution_count": 22,
   "id": "2164deee",
   "metadata": {
    "ExecuteTime": {
     "end_time": "2021-08-06T00:49:16.328067Z",
     "start_time": "2021-08-06T00:49:16.324130Z"
    },
    "hidden": true
   },
   "outputs": [],
   "source": [
    "df4 = df3.copy()"
   ]
  },
  {
   "cell_type": "markdown",
   "id": "ebd9261f",
   "metadata": {
    "hidden": true
   },
   "source": [
    "## 4.1 Univariate Analysis"
   ]
  },
  {
   "cell_type": "markdown",
   "id": "7dd6e8d6",
   "metadata": {
    "ExecuteTime": {
     "end_time": "2021-07-30T01:51:20.823534Z",
     "start_time": "2021-07-30T01:51:20.808415Z"
    },
    "hidden": true
   },
   "source": [
    "### 4.1.1 Response Variable"
   ]
  },
  {
   "cell_type": "code",
   "execution_count": 23,
   "id": "646b4e8d",
   "metadata": {
    "ExecuteTime": {
     "end_time": "2021-08-06T00:49:17.132318Z",
     "start_time": "2021-08-06T00:49:16.330225Z"
    },
    "hidden": true
   },
   "outputs": [
    {
     "data": {
      "image/png": "[encoded data removed]",
      "text/plain": [
       "<Figure size 1800x864 with 1 Axes>"
      ]
     },
     "metadata": {},
     "output_type": "display_data"
    }
   ],
   "source": [
    "series = df4['exited'].value_counts()\n",
    "\n",
    "aux1 = pd.DataFrame({'Customers': series}).T.rename(columns={0: 'Renewed', 1: 'Exited'})\n",
    "aux1.plot.bar(rot=0);"
   ]
  },
  {
   "cell_type": "markdown",
   "id": "d8a06370",
   "metadata": {
    "hidden": true
   },
   "source": [
    "### 4.1.2 Numerical Attributes"
   ]
  },
  {
   "cell_type": "code",
   "execution_count": 24,
   "id": "aba34c39",
   "metadata": {
    "ExecuteTime": {
     "end_time": "2021-08-06T00:49:18.447129Z",
     "start_time": "2021-08-06T00:49:17.133589Z"
    },
    "hidden": true,
    "scrolled": false
   },
   "outputs": [
    {
     "data": {
      "image/png": "[encoded data removed]",
      "text/plain": [
       "<Figure size 1800x864 with 9 Axes>"
      ]
     },
     "metadata": {},
     "output_type": "display_data"
    }
   ],
   "source": [
    "num_attributes.drop(columns=['customer_id']).hist();"
   ]
  },
  {
   "cell_type": "markdown",
   "id": "30f0808d",
   "metadata": {
    "hidden": true
   },
   "source": [
    "### 4.1.3 Categorical Variables"
   ]
  },
  {
   "cell_type": "code",
   "execution_count": 25,
   "id": "281e646a",
   "metadata": {
    "ExecuteTime": {
     "end_time": "2021-08-06T00:49:18.453713Z",
     "start_time": "2021-08-06T00:49:18.448451Z"
    },
    "hidden": true
   },
   "outputs": [],
   "source": [
    "# Customers that churn\n",
    "aux1 = df1[df1['exited'] == 0]\n",
    "\n",
    "# Customers that don't churn\n",
    "aux2 = df1[df1['exited'] == 1]"
   ]
  },
  {
   "cell_type": "code",
   "execution_count": 26,
   "id": "a92dfd6a",
   "metadata": {
    "ExecuteTime": {
     "end_time": "2021-08-06T00:49:18.720648Z",
     "start_time": "2021-08-06T00:49:18.457549Z"
    },
    "hidden": true,
    "scrolled": false
   },
   "outputs": [
    {
     "data": {
      "image/png": "[encoded data removed]",
      "text/plain": [
       "<Figure size 1152x720 with 2 Axes>"
      ]
     },
     "metadata": {},
     "output_type": "display_data"
    }
   ],
   "source": [
    "# Number of churn customers per country\n",
    "churn_per_country = aux1[['geography', 'exited']].groupby('geography').count().reset_index()\n",
    "plt.figure( figsize=(16,10) )\n",
    "plt.subplot(1,2,1)\n",
    "sb.barplot(x='geography',y='exited', data=churn_per_country);\n",
    "plt.title('Number of churn customers per country');\n",
    "plt.xlabel('Country');\n",
    "\n",
    "# Number customers that don't churn per country\n",
    "dont_churn_per_country = aux2[['geography', 'exited']].groupby('geography').count().reset_index()\n",
    "plt.subplot(1,2,2)\n",
    "sb.barplot(x='geography',y='exited', data=dont_churn_per_country);\n",
    "plt.title(\"Number customers that don't churn per country\");\n",
    "plt.xlabel('Country');"
   ]
  },
  {
   "cell_type": "code",
   "execution_count": 27,
   "id": "5b0d7a12",
   "metadata": {
    "ExecuteTime": {
     "end_time": "2021-08-06T00:49:18.899836Z",
     "start_time": "2021-08-06T00:49:18.723443Z"
    },
    "hidden": true
   },
   "outputs": [
    {
     "data": {
      "image/png": "[encoded data removed]",
      "text/plain": [
       "<Figure size 1152x720 with 2 Axes>"
      ]
     },
     "metadata": {},
     "output_type": "display_data"
    }
   ],
   "source": [
    "# Number of churn customers per gender\n",
    "churn_per_gender = aux1[['gender', 'exited']].groupby('gender').count().reset_index()\n",
    "plt.figure( figsize=(16,10) )\n",
    "plt.subplot(1,2,1)\n",
    "sb.barplot(x='gender',y='exited', data=churn_per_gender);\n",
    "plt.title('Number of churn customers per gender');\n",
    "\n",
    "# Number customers that don't churn per gender\n",
    "dont_churn_per_gender = aux2[['gender', 'exited']].groupby('gender').count().reset_index()\n",
    "plt.subplot(1,2,2)\n",
    "sb.barplot(x='gender',y='exited', data=dont_churn_per_gender);\n",
    "plt.title(\"Number customers that don't churn per gender\");"
   ]
  },
  {
   "cell_type": "markdown",
   "id": "8e7f69fe",
   "metadata": {
    "hidden": true
   },
   "source": [
    "## 4.2 Bivariate Analysis"
   ]
  },
  {
   "cell_type": "markdown",
   "id": "713b8e79",
   "metadata": {
    "hidden": true
   },
   "source": [
    "### H1 - Clientes com mais de 50 anos sempre renovam o contrato."
   ]
  },
  {
   "cell_type": "markdown",
   "id": "99e40fef",
   "metadata": {
    "hidden": true
   },
   "source": [
    "**Falso.** Quase metade dos clientes com mais de 50 anos não renovam o contrato."
   ]
  },
  {
   "cell_type": "code",
   "execution_count": 28,
   "id": "e1c73119",
   "metadata": {
    "ExecuteTime": {
     "end_time": "2021-08-06T00:49:18.911847Z",
     "start_time": "2021-08-06T00:49:18.903305Z"
    },
    "hidden": true
   },
   "outputs": [
    {
     "data": {
      "text/html": [
       "<div>\n",
       "<style scoped>\n",
       "    .dataframe tbody tr th:only-of-type {\n",
       "        vertical-align: middle;\n",
       "    }\n",
       "\n",
       "    .dataframe tbody tr th {\n",
       "        vertical-align: top;\n",
       "    }\n",
       "\n",
       "    .dataframe thead th {\n",
       "        text-align: right;\n",
       "    }\n",
       "</style>\n",
       "<table border=\"1\" class=\"dataframe\">\n",
       "  <thead>\n",
       "    <tr style=\"text-align: right;\">\n",
       "      <th></th>\n",
       "      <th>Renewed</th>\n",
       "      <th>Exited</th>\n",
       "    </tr>\n",
       "  </thead>\n",
       "  <tbody>\n",
       "    <tr>\n",
       "      <th>Customers</th>\n",
       "      <td>698</td>\n",
       "      <td>563</td>\n",
       "    </tr>\n",
       "  </tbody>\n",
       "</table>\n",
       "</div>"
      ],
      "text/plain": [
       "           Renewed  Exited\n",
       "Customers      698     563"
      ]
     },
     "execution_count": 28,
     "metadata": {},
     "output_type": "execute_result"
    }
   ],
   "source": [
    "aux1 = df4.loc[df4['age'] > 50 ]\n",
    "\n",
    "pd.DataFrame({'Customers': aux1['exited'].value_counts()}).T.rename(columns={0: 'Renewed', 1: 'Exited'})"
   ]
  },
  {
   "cell_type": "code",
   "execution_count": 29,
   "id": "f615955e",
   "metadata": {
    "ExecuteTime": {
     "end_time": "2021-08-06T00:49:18.941622Z",
     "start_time": "2021-08-06T00:49:18.913347Z"
    },
    "hidden": true
   },
   "outputs": [
    {
     "data": {
      "text/html": [
       "<div>\n",
       "<style scoped>\n",
       "    .dataframe tbody tr th:only-of-type {\n",
       "        vertical-align: middle;\n",
       "    }\n",
       "\n",
       "    .dataframe tbody tr th {\n",
       "        vertical-align: top;\n",
       "    }\n",
       "\n",
       "    .dataframe thead th {\n",
       "        text-align: right;\n",
       "    }\n",
       "</style>\n",
       "<table border=\"1\" class=\"dataframe\">\n",
       "  <thead>\n",
       "    <tr style=\"text-align: right;\">\n",
       "      <th></th>\n",
       "      <th>Renewed</th>\n",
       "      <th>Exited</th>\n",
       "      <th>Exited Ratio</th>\n",
       "    </tr>\n",
       "  </thead>\n",
       "  <tbody>\n",
       "    <tr>\n",
       "      <th>Customers between 18 and 33 years old</th>\n",
       "      <td>2975</td>\n",
       "      <td>257</td>\n",
       "      <td>0.0800</td>\n",
       "    </tr>\n",
       "    <tr>\n",
       "      <th>Customers between 34 and 49 years old</th>\n",
       "      <td>4227</td>\n",
       "      <td>1146</td>\n",
       "      <td>0.2130</td>\n",
       "    </tr>\n",
       "    <tr>\n",
       "      <th>Customers between 50 and 65 years old</th>\n",
       "      <td>532</td>\n",
       "      <td>599</td>\n",
       "      <td>0.5300</td>\n",
       "    </tr>\n",
       "    <tr>\n",
       "      <th>Customers between 66 and 81 years old</th>\n",
       "      <td>222</td>\n",
       "      <td>34</td>\n",
       "      <td>0.1330</td>\n",
       "    </tr>\n",
       "    <tr>\n",
       "      <th>Customers 82+ years old</th>\n",
       "      <td>7</td>\n",
       "      <td>1</td>\n",
       "      <td>0.1250</td>\n",
       "    </tr>\n",
       "  </tbody>\n",
       "</table>\n",
       "</div>"
      ],
      "text/plain": [
       "                                       Renewed  Exited  Exited Ratio\n",
       "Customers between 18 and 33 years old     2975     257        0.0800\n",
       "Customers between 34 and 49 years old     4227    1146        0.2130\n",
       "Customers between 50 and 65 years old      532     599        0.5300\n",
       "Customers between 66 and 81 years old      222      34        0.1330\n",
       "Customers 82+ years old                      7       1        0.1250"
      ]
     },
     "execution_count": 29,
     "metadata": {},
     "output_type": "execute_result"
    }
   ],
   "source": [
    "# Customers ratio by age group\n",
    "range_18_to_33 = df4[(df4['age'] >= 18) & (df4['age'] <= 33)]['exited'].value_counts()\n",
    "range_34_to_49 = df4[(df4['age'] >= 34) & (df4['age'] <= 49)]['exited'].value_counts()\n",
    "range_50_to_65 = df4[(df4['age'] >= 50) & (df4['age'] <= 65)]['exited'].value_counts()\n",
    "range_66_to_81 = df4[(df4['age'] >= 66) & (df4['age'] <= 81)]['exited'].value_counts()\n",
    "range_82_above = df4[df4['age'] >= 82]['exited'].value_counts()\n",
    "\n",
    "aux4_1 = pd.DataFrame({'Customers between 18 and 33 years old': range_18_to_33}).T.rename(columns={0: 'Renewed', 1: 'Exited'})\n",
    "\n",
    "aux4_2 = pd.DataFrame({'Customers between 34 and 49 years old': range_34_to_49}).T.rename(columns={0: 'Renewed', 1: 'Exited'})\n",
    "\n",
    "aux4_3 = pd.DataFrame({'Customers between 50 and 65 years old': range_50_to_65}).T.rename(columns={0: 'Renewed', 1: 'Exited'})\n",
    "\n",
    "aux4_4 = pd.DataFrame({'Customers between 66 and 81 years old': range_66_to_81}).T.rename(columns={0: 'Renewed', 1: 'Exited'})\n",
    "\n",
    "aux4_5 = pd.DataFrame({'Customers 82+ years old': range_82_above}).T.rename(columns={0: 'Renewed', 1: 'Exited'})\n",
    "\n",
    "pd.concat( [exited_ratio(aux4_1), exited_ratio(aux4_2), exited_ratio(aux4_3), exited_ratio(aux4_4), exited_ratio(aux4_5)] )"
   ]
  },
  {
   "cell_type": "markdown",
   "id": "60c63252",
   "metadata": {
    "hidden": true
   },
   "source": [
    "### H2 - Clientes com salário acima da média deveriam renovar o contrato."
   ]
  },
  {
   "cell_type": "markdown",
   "id": "bd8b0e13",
   "metadata": {
    "hidden": true
   },
   "source": [
    "**Falso.** Aproximadamente 21% dos clientes com salário acima da média não renovam o contrato."
   ]
  },
  {
   "cell_type": "code",
   "execution_count": 30,
   "id": "74f0a29c",
   "metadata": {
    "ExecuteTime": {
     "end_time": "2021-08-06T00:49:18.952498Z",
     "start_time": "2021-08-06T00:49:18.942890Z"
    },
    "hidden": true
   },
   "outputs": [
    {
     "data": {
      "text/html": [
       "<div>\n",
       "<style scoped>\n",
       "    .dataframe tbody tr th:only-of-type {\n",
       "        vertical-align: middle;\n",
       "    }\n",
       "\n",
       "    .dataframe tbody tr th {\n",
       "        vertical-align: top;\n",
       "    }\n",
       "\n",
       "    .dataframe thead th {\n",
       "        text-align: right;\n",
       "    }\n",
       "</style>\n",
       "<table border=\"1\" class=\"dataframe\">\n",
       "  <thead>\n",
       "    <tr style=\"text-align: right;\">\n",
       "      <th></th>\n",
       "      <th>Renewed</th>\n",
       "      <th>Exited</th>\n",
       "    </tr>\n",
       "  </thead>\n",
       "  <tbody>\n",
       "    <tr>\n",
       "      <th>Customers</th>\n",
       "      <td>3965</td>\n",
       "      <td>1042</td>\n",
       "    </tr>\n",
       "  </tbody>\n",
       "</table>\n",
       "</div>"
      ],
      "text/plain": [
       "           Renewed  Exited\n",
       "Customers     3965    1042"
      ]
     },
     "execution_count": 30,
     "metadata": {},
     "output_type": "execute_result"
    }
   ],
   "source": [
    "mean_salary = df4['estimated_salary'].mean()\n",
    "\n",
    "aux1 = df4[df4['estimated_salary'] > mean_salary]\n",
    "\n",
    "pd.DataFrame({'Customers': aux1['exited'].value_counts()}).T.rename(columns={0: 'Renewed', 1: 'Exited'})"
   ]
  },
  {
   "cell_type": "code",
   "execution_count": 31,
   "id": "5600a31f",
   "metadata": {
    "ExecuteTime": {
     "end_time": "2021-08-06T00:49:18.974441Z",
     "start_time": "2021-08-06T00:49:18.953891Z"
    },
    "hidden": true
   },
   "outputs": [
    {
     "data": {
      "text/html": [
       "<div>\n",
       "<style scoped>\n",
       "    .dataframe tbody tr th:only-of-type {\n",
       "        vertical-align: middle;\n",
       "    }\n",
       "\n",
       "    .dataframe tbody tr th {\n",
       "        vertical-align: top;\n",
       "    }\n",
       "\n",
       "    .dataframe thead th {\n",
       "        text-align: right;\n",
       "    }\n",
       "</style>\n",
       "<table border=\"1\" class=\"dataframe\">\n",
       "  <thead>\n",
       "    <tr style=\"text-align: right;\">\n",
       "      <th></th>\n",
       "      <th>Renewed</th>\n",
       "      <th>Exited</th>\n",
       "      <th>Exited Ratio</th>\n",
       "    </tr>\n",
       "  </thead>\n",
       "  <tbody>\n",
       "    <tr>\n",
       "      <th>Salary less than 61580</th>\n",
       "      <td>2436</td>\n",
       "      <td>609</td>\n",
       "      <td>0.2000</td>\n",
       "    </tr>\n",
       "    <tr>\n",
       "      <th>Salary between 61580 and 111580</th>\n",
       "      <td>2049</td>\n",
       "      <td>506</td>\n",
       "      <td>0.1980</td>\n",
       "    </tr>\n",
       "    <tr>\n",
       "      <th>Salary between 111580 and 161580</th>\n",
       "      <td>1973</td>\n",
       "      <td>505</td>\n",
       "      <td>0.2040</td>\n",
       "    </tr>\n",
       "    <tr>\n",
       "      <th>Salary greater than 161580</th>\n",
       "      <td>1505</td>\n",
       "      <td>417</td>\n",
       "      <td>0.2170</td>\n",
       "    </tr>\n",
       "  </tbody>\n",
       "</table>\n",
       "</div>"
      ],
      "text/plain": [
       "                                  Renewed  Exited  Exited Ratio\n",
       "Salary less than 61580               2436     609        0.2000\n",
       "Salary between 61580 and 111580      2049     506        0.1980\n",
       "Salary between 111580 and 161580     1973     505        0.2040\n",
       "Salary greater than 161580           1505     417        0.2170"
      ]
     },
     "execution_count": 31,
     "metadata": {},
     "output_type": "execute_result"
    }
   ],
   "source": [
    "# Customers ratio by salary group\n",
    "salary_range_1 = df4[df4['estimated_salary'] < 61580]['exited'].value_counts()\n",
    "salary_range_2 = df4[(df4['estimated_salary'] >= 61580) & (df4['estimated_salary'] <= 111580)]['exited'].value_counts()\n",
    "salary_range_3 = df4[(df4['estimated_salary'] > 111580) & (df4['estimated_salary'] <= 161580)]['exited'].value_counts()\n",
    "salary_range_4 = df4[df4['estimated_salary'] > 161580]['exited'].value_counts()\n",
    "\n",
    "aux4_1 = pd.DataFrame({'Salary less than 61580': salary_range_1}).T.rename(columns={0: 'Renewed', 1: 'Exited'})\n",
    "aux4_2 = pd.DataFrame({'Salary between 61580 and 111580': salary_range_2}).T.rename(columns={0: 'Renewed', 1: 'Exited'})\n",
    "aux4_3 = pd.DataFrame({'Salary between 111580 and 161580': salary_range_3}).T.rename(columns={0: 'Renewed', 1: 'Exited'})\n",
    "aux4_4 = pd.DataFrame({'Salary greater than 161580': salary_range_4}).T.rename(columns={0: 'Renewed', 1: 'Exited'})\n",
    "\n",
    "pd.concat( [exited_ratio(aux4_1), exited_ratio(aux4_2), exited_ratio(aux4_3), exited_ratio(aux4_4)] )"
   ]
  },
  {
   "cell_type": "markdown",
   "id": "b28f4e2c",
   "metadata": {
    "hidden": true
   },
   "source": [
    "### H3 - Clientes com \"Credit Score\" acima da média deveriam renovar o contrato."
   ]
  },
  {
   "cell_type": "markdown",
   "id": "2c0c01b8",
   "metadata": {
    "hidden": true
   },
   "source": [
    "**Falso.** Aproximadamente 20% dos clientes com Credit Score acima da média não renovam o contrato."
   ]
  },
  {
   "cell_type": "code",
   "execution_count": 32,
   "id": "439db00d",
   "metadata": {
    "ExecuteTime": {
     "end_time": "2021-08-06T00:49:18.986982Z",
     "start_time": "2021-08-06T00:49:18.975435Z"
    },
    "hidden": true
   },
   "outputs": [
    {
     "data": {
      "text/html": [
       "<div>\n",
       "<style scoped>\n",
       "    .dataframe tbody tr th:only-of-type {\n",
       "        vertical-align: middle;\n",
       "    }\n",
       "\n",
       "    .dataframe tbody tr th {\n",
       "        vertical-align: top;\n",
       "    }\n",
       "\n",
       "    .dataframe thead th {\n",
       "        text-align: right;\n",
       "    }\n",
       "</style>\n",
       "<table border=\"1\" class=\"dataframe\">\n",
       "  <thead>\n",
       "    <tr style=\"text-align: right;\">\n",
       "      <th></th>\n",
       "      <th>Renewed</th>\n",
       "      <th>Exited</th>\n",
       "    </tr>\n",
       "  </thead>\n",
       "  <tbody>\n",
       "    <tr>\n",
       "      <th>Customers</th>\n",
       "      <td>4083</td>\n",
       "      <td>980</td>\n",
       "    </tr>\n",
       "  </tbody>\n",
       "</table>\n",
       "</div>"
      ],
      "text/plain": [
       "           Renewed  Exited\n",
       "Customers     4083     980"
      ]
     },
     "execution_count": 32,
     "metadata": {},
     "output_type": "execute_result"
    }
   ],
   "source": [
    "mean_credit = df4['credit_score'].mean()\n",
    "\n",
    "aux1 = df4[df4['credit_score'] > mean_credit]\n",
    "\n",
    "pd.DataFrame({'Customers': aux1['exited'].value_counts()}).T.rename(columns={0: 'Renewed', 1: 'Exited'})"
   ]
  },
  {
   "cell_type": "code",
   "execution_count": 33,
   "id": "6beb04cd",
   "metadata": {
    "ExecuteTime": {
     "end_time": "2021-08-06T00:49:19.035817Z",
     "start_time": "2021-08-06T00:49:18.990607Z"
    },
    "hidden": true
   },
   "outputs": [
    {
     "data": {
      "text/html": [
       "<div>\n",
       "<style scoped>\n",
       "    .dataframe tbody tr th:only-of-type {\n",
       "        vertical-align: middle;\n",
       "    }\n",
       "\n",
       "    .dataframe tbody tr th {\n",
       "        vertical-align: top;\n",
       "    }\n",
       "\n",
       "    .dataframe thead th {\n",
       "        text-align: right;\n",
       "    }\n",
       "</style>\n",
       "<table border=\"1\" class=\"dataframe\">\n",
       "  <thead>\n",
       "    <tr style=\"text-align: right;\">\n",
       "      <th></th>\n",
       "      <th>Renewed</th>\n",
       "      <th>Exited</th>\n",
       "      <th>Exited Ratio</th>\n",
       "    </tr>\n",
       "  </thead>\n",
       "  <tbody>\n",
       "    <tr>\n",
       "      <th>Credit Score less than 500</th>\n",
       "      <td>482</td>\n",
       "      <td>150</td>\n",
       "      <td>0.2370</td>\n",
       "    </tr>\n",
       "    <tr>\n",
       "      <th>Credit Score between 500 and 650</th>\n",
       "      <td>3398</td>\n",
       "      <td>907</td>\n",
       "      <td>0.2110</td>\n",
       "    </tr>\n",
       "    <tr>\n",
       "      <th>Credit Score between 650 and 800</th>\n",
       "      <td>3565</td>\n",
       "      <td>853</td>\n",
       "      <td>0.1930</td>\n",
       "    </tr>\n",
       "    <tr>\n",
       "      <th>Credit Score greater than 800</th>\n",
       "      <td>518</td>\n",
       "      <td>127</td>\n",
       "      <td>0.1970</td>\n",
       "    </tr>\n",
       "  </tbody>\n",
       "</table>\n",
       "</div>"
      ],
      "text/plain": [
       "                                  Renewed  Exited  Exited Ratio\n",
       "Credit Score less than 500            482     150        0.2370\n",
       "Credit Score between 500 and 650     3398     907        0.2110\n",
       "Credit Score between 650 and 800     3565     853        0.1930\n",
       "Credit Score greater than 800         518     127        0.1970"
      ]
     },
     "execution_count": 33,
     "metadata": {},
     "output_type": "execute_result"
    }
   ],
   "source": [
    "# Customers ratio by credit score group\n",
    "credit_range_1 = df4[df4['credit_score'] < 500]['exited'].value_counts()\n",
    "credit_range_2 = df4[(df4['credit_score'] >= 500) & (df4['credit_score'] <= 650)]['exited'].value_counts()\n",
    "credit_range_3 = df4[(df4['credit_score'] > 650) & (df4['credit_score'] <= 800)]['exited'].value_counts()\n",
    "credit_range_4 = df4[df4['credit_score'] > 800]['exited'].value_counts()\n",
    "\n",
    "aux4_1 = pd.DataFrame({'Credit Score less than 500': credit_range_1}).T.rename(columns={0: 'Renewed', 1: 'Exited'})\n",
    "aux4_2 = pd.DataFrame({'Credit Score between 500 and 650': credit_range_2}).T.rename(columns={0: 'Renewed', 1: 'Exited'})\n",
    "aux4_3 = pd.DataFrame({'Credit Score between 650 and 800': credit_range_3}).T.rename(columns={0: 'Renewed', 1: 'Exited'})\n",
    "aux4_4 = pd.DataFrame({'Credit Score greater than 800': credit_range_4}).T.rename(columns={0: 'Renewed', 1: 'Exited'})\n",
    "\n",
    "pd.concat( [exited_ratio(aux4_1), exited_ratio(aux4_2), exited_ratio(aux4_3), exited_ratio(aux4_4)] )"
   ]
  },
  {
   "cell_type": "markdown",
   "id": "e765e9c9",
   "metadata": {
    "hidden": true
   },
   "source": [
    "### H4 - Clientes com balanço acima da média deveriam renovar o contrato."
   ]
  },
  {
   "cell_type": "markdown",
   "id": "c8b6af9e",
   "metadata": {
    "hidden": true
   },
   "source": [
    "**Falso.** Aproximadamente 24% dos clientes com balanço acima da média não renovam o contrato."
   ]
  },
  {
   "cell_type": "code",
   "execution_count": 34,
   "id": "861323d9",
   "metadata": {
    "ExecuteTime": {
     "end_time": "2021-08-06T00:49:19.058723Z",
     "start_time": "2021-08-06T00:49:19.040088Z"
    },
    "hidden": true
   },
   "outputs": [
    {
     "data": {
      "text/html": [
       "<div>\n",
       "<style scoped>\n",
       "    .dataframe tbody tr th:only-of-type {\n",
       "        vertical-align: middle;\n",
       "    }\n",
       "\n",
       "    .dataframe tbody tr th {\n",
       "        vertical-align: top;\n",
       "    }\n",
       "\n",
       "    .dataframe thead th {\n",
       "        text-align: right;\n",
       "    }\n",
       "</style>\n",
       "<table border=\"1\" class=\"dataframe\">\n",
       "  <thead>\n",
       "    <tr style=\"text-align: right;\">\n",
       "      <th></th>\n",
       "      <th>Renewed</th>\n",
       "      <th>Exited</th>\n",
       "    </tr>\n",
       "  </thead>\n",
       "  <tbody>\n",
       "    <tr>\n",
       "      <th>Customers</th>\n",
       "      <td>4493</td>\n",
       "      <td>1426</td>\n",
       "    </tr>\n",
       "  </tbody>\n",
       "</table>\n",
       "</div>"
      ],
      "text/plain": [
       "           Renewed  Exited\n",
       "Customers     4493    1426"
      ]
     },
     "execution_count": 34,
     "metadata": {},
     "output_type": "execute_result"
    }
   ],
   "source": [
    "mean_credit = df4['balance'].mean()\n",
    "\n",
    "aux1 = df4[df4['balance'] > mean_credit]\n",
    "\n",
    "pd.DataFrame({'Customers': aux1['exited'].value_counts()}).T.rename(columns={0: 'Renewed', 1: 'Exited'})"
   ]
  },
  {
   "cell_type": "code",
   "execution_count": 35,
   "id": "4eaa6440",
   "metadata": {
    "ExecuteTime": {
     "end_time": "2021-08-06T00:49:19.091698Z",
     "start_time": "2021-08-06T00:49:19.061074Z"
    },
    "hidden": true
   },
   "outputs": [
    {
     "data": {
      "text/html": [
       "<div>\n",
       "<style scoped>\n",
       "    .dataframe tbody tr th:only-of-type {\n",
       "        vertical-align: middle;\n",
       "    }\n",
       "\n",
       "    .dataframe tbody tr th {\n",
       "        vertical-align: top;\n",
       "    }\n",
       "\n",
       "    .dataframe thead th {\n",
       "        text-align: right;\n",
       "    }\n",
       "</style>\n",
       "<table border=\"1\" class=\"dataframe\">\n",
       "  <thead>\n",
       "    <tr style=\"text-align: right;\">\n",
       "      <th></th>\n",
       "      <th>Renewed</th>\n",
       "      <th>Exited</th>\n",
       "      <th>Exited Ratio</th>\n",
       "    </tr>\n",
       "  </thead>\n",
       "  <tbody>\n",
       "    <tr>\n",
       "      <th>Balance less than 62500</th>\n",
       "      <td>3260</td>\n",
       "      <td>551</td>\n",
       "      <td>0.1450</td>\n",
       "    </tr>\n",
       "    <tr>\n",
       "      <th>Balance between 62500 and 125000</th>\n",
       "      <td>2625</td>\n",
       "      <td>833</td>\n",
       "      <td>0.2410</td>\n",
       "    </tr>\n",
       "    <tr>\n",
       "      <th>Balance between 125000 and 187500</th>\n",
       "      <td>2024</td>\n",
       "      <td>618</td>\n",
       "      <td>0.2340</td>\n",
       "    </tr>\n",
       "    <tr>\n",
       "      <th>Balance greater than 187500</th>\n",
       "      <td>54</td>\n",
       "      <td>35</td>\n",
       "      <td>0.3930</td>\n",
       "    </tr>\n",
       "  </tbody>\n",
       "</table>\n",
       "</div>"
      ],
      "text/plain": [
       "                                   Renewed  Exited  Exited Ratio\n",
       "Balance less than 62500               3260     551        0.1450\n",
       "Balance between 62500 and 125000      2625     833        0.2410\n",
       "Balance between 125000 and 187500     2024     618        0.2340\n",
       "Balance greater than 187500             54      35        0.3930"
      ]
     },
     "execution_count": 35,
     "metadata": {},
     "output_type": "execute_result"
    }
   ],
   "source": [
    "# Customers ratio by balance group\n",
    "balance_range_1 = df4[df4['balance'] < 62500]['exited'].value_counts()\n",
    "balance_range_2 = df4[(df4['balance'] >= 62500) & (df4['balance'] <= 125000)]['exited'].value_counts()\n",
    "balance_range_3 = df4[(df4['balance'] > 125000) & (df4['balance'] <= 187500)]['exited'].value_counts()\n",
    "balance_range_4 = df4[df4['balance'] > 187500]['exited'].value_counts()\n",
    "\n",
    "aux4_1 = pd.DataFrame({'Balance less than 62500': balance_range_1}).T.rename(columns={0: 'Renewed', 1: 'Exited'})\n",
    "aux4_2 = pd.DataFrame({'Balance between 62500 and 125000': balance_range_2}).T.rename(columns={0: 'Renewed', 1: 'Exited'})\n",
    "aux4_3 = pd.DataFrame({'Balance between 125000 and 187500': balance_range_3}).T.rename(columns={0: 'Renewed', 1: 'Exited'})\n",
    "aux4_4 = pd.DataFrame({'Balance greater than 187500': balance_range_4}).T.rename(columns={0: 'Renewed', 1: 'Exited'})\n",
    "\n",
    "pd.concat( [exited_ratio(aux4_1), exited_ratio(aux4_2), exited_ratio(aux4_3), exited_ratio(aux4_4)] )"
   ]
  },
  {
   "cell_type": "markdown",
   "id": "67794b4c",
   "metadata": {
    "hidden": true
   },
   "source": [
    "### H5 - Clientes com cartão de crédito deveriam renovar o contrato."
   ]
  },
  {
   "cell_type": "markdown",
   "id": "d70ffc6c",
   "metadata": {
    "hidden": true
   },
   "source": [
    "**Falso.** Aproximadamente 20% dos clientes que possuem cartão de crédito não renovam o contrato."
   ]
  },
  {
   "cell_type": "code",
   "execution_count": 36,
   "id": "d463fe92",
   "metadata": {
    "ExecuteTime": {
     "end_time": "2021-08-06T00:49:19.102804Z",
     "start_time": "2021-08-06T00:49:19.092924Z"
    },
    "hidden": true
   },
   "outputs": [
    {
     "data": {
      "text/html": [
       "<div>\n",
       "<style scoped>\n",
       "    .dataframe tbody tr th:only-of-type {\n",
       "        vertical-align: middle;\n",
       "    }\n",
       "\n",
       "    .dataframe tbody tr th {\n",
       "        vertical-align: top;\n",
       "    }\n",
       "\n",
       "    .dataframe thead th {\n",
       "        text-align: right;\n",
       "    }\n",
       "</style>\n",
       "<table border=\"1\" class=\"dataframe\">\n",
       "  <thead>\n",
       "    <tr style=\"text-align: right;\">\n",
       "      <th></th>\n",
       "      <th>Renewed</th>\n",
       "      <th>Exited</th>\n",
       "    </tr>\n",
       "  </thead>\n",
       "  <tbody>\n",
       "    <tr>\n",
       "      <th>Customers</th>\n",
       "      <td>5631</td>\n",
       "      <td>1424</td>\n",
       "    </tr>\n",
       "  </tbody>\n",
       "</table>\n",
       "</div>"
      ],
      "text/plain": [
       "           Renewed  Exited\n",
       "Customers     5631    1424"
      ]
     },
     "execution_count": 36,
     "metadata": {},
     "output_type": "execute_result"
    }
   ],
   "source": [
    "pd.DataFrame({'Customers': df4[df4['has_cr_card'] == 1]['exited'].value_counts()}).T.rename(columns={0: 'Renewed', 1: 'Exited'})"
   ]
  },
  {
   "cell_type": "code",
   "execution_count": 37,
   "id": "67ac7ac3",
   "metadata": {
    "ExecuteTime": {
     "end_time": "2021-08-06T00:49:19.132448Z",
     "start_time": "2021-08-06T00:49:19.104302Z"
    },
    "hidden": true
   },
   "outputs": [
    {
     "data": {
      "text/html": [
       "<div>\n",
       "<style scoped>\n",
       "    .dataframe tbody tr th:only-of-type {\n",
       "        vertical-align: middle;\n",
       "    }\n",
       "\n",
       "    .dataframe tbody tr th {\n",
       "        vertical-align: top;\n",
       "    }\n",
       "\n",
       "    .dataframe thead th {\n",
       "        text-align: right;\n",
       "    }\n",
       "</style>\n",
       "<table border=\"1\" class=\"dataframe\">\n",
       "  <thead>\n",
       "    <tr style=\"text-align: right;\">\n",
       "      <th></th>\n",
       "      <th>Renewed</th>\n",
       "      <th>Exited</th>\n",
       "      <th>Exited Ratio</th>\n",
       "    </tr>\n",
       "  </thead>\n",
       "  <tbody>\n",
       "    <tr>\n",
       "      <th>Customers between 18 and 33 years old and has credit card</th>\n",
       "      <td>2118</td>\n",
       "      <td>183</td>\n",
       "      <td>0.0800</td>\n",
       "    </tr>\n",
       "    <tr>\n",
       "      <th>Customers between 34 and 49 years old and has credit card</th>\n",
       "      <td>2978</td>\n",
       "      <td>815</td>\n",
       "      <td>0.2150</td>\n",
       "    </tr>\n",
       "    <tr>\n",
       "      <th>Customers between 50 and 65 years old and has credit card</th>\n",
       "      <td>372</td>\n",
       "      <td>402</td>\n",
       "      <td>0.5190</td>\n",
       "    </tr>\n",
       "    <tr>\n",
       "      <th>Customers 65+ years old and has credit card</th>\n",
       "      <td>163</td>\n",
       "      <td>24</td>\n",
       "      <td>0.1280</td>\n",
       "    </tr>\n",
       "  </tbody>\n",
       "</table>\n",
       "</div>"
      ],
      "text/plain": [
       "                                                    Renewed  Exited  Exited Ratio\n",
       "Customers between 18 and 33 years old and has c...     2118     183        0.0800\n",
       "Customers between 34 and 49 years old and has c...     2978     815        0.2150\n",
       "Customers between 50 and 65 years old and has c...      372     402        0.5190\n",
       "Customers 65+ years old and has credit card             163      24        0.1280"
      ]
     },
     "execution_count": 37,
     "metadata": {},
     "output_type": "execute_result"
    }
   ],
   "source": [
    "# Customers ratio that have credit card\n",
    "aux4_1 = df4[(df4['has_cr_card'] == 1) & (df4['age'] >= 18) & (df4['age'] <= 33)]['exited'].value_counts()\n",
    "aux4_2 = df4[(df4['has_cr_card'] == 1) & (df4['age'] >= 34) & (df4['age'] <= 49)]['exited'].value_counts()\n",
    "aux4_3 = df4[(df4['has_cr_card'] == 1) & (df4['age'] >= 50) & (df4['age'] <= 65)]['exited'].value_counts()\n",
    "aux4_4 = df4[(df4['has_cr_card'] == 1) & (df4['age'] > 65)]['exited'].value_counts()\n",
    "\n",
    "aux4_1 = pd.DataFrame({'Customers between 18 and 33 years old and has credit card': aux4_1}).T.rename(columns={0: 'Renewed', 1: 'Exited'})\n",
    "aux4_2 = pd.DataFrame({'Customers between 34 and 49 years old and has credit card': aux4_2}).T.rename(columns={0: 'Renewed', 1: 'Exited'})\n",
    "aux4_3 = pd.DataFrame({'Customers between 50 and 65 years old and has credit card': aux4_3}).T.rename(columns={0: 'Renewed', 1: 'Exited'})\n",
    "aux4_4 = pd.DataFrame({'Customers 65+ years old and has credit card': aux4_4}).T.rename(columns={0: 'Renewed', 1: 'Exited'})\n",
    "\n",
    "pd.concat( [exited_ratio(aux4_1), exited_ratio(aux4_2), exited_ratio(aux4_3), exited_ratio(aux4_4)] )"
   ]
  },
  {
   "cell_type": "code",
   "execution_count": 38,
   "id": "fcd54acb",
   "metadata": {
    "ExecuteTime": {
     "end_time": "2021-08-06T00:49:19.159780Z",
     "start_time": "2021-08-06T00:49:19.134038Z"
    },
    "hidden": true
   },
   "outputs": [
    {
     "data": {
      "text/html": [
       "<div>\n",
       "<style scoped>\n",
       "    .dataframe tbody tr th:only-of-type {\n",
       "        vertical-align: middle;\n",
       "    }\n",
       "\n",
       "    .dataframe tbody tr th {\n",
       "        vertical-align: top;\n",
       "    }\n",
       "\n",
       "    .dataframe thead th {\n",
       "        text-align: right;\n",
       "    }\n",
       "</style>\n",
       "<table border=\"1\" class=\"dataframe\">\n",
       "  <thead>\n",
       "    <tr style=\"text-align: right;\">\n",
       "      <th></th>\n",
       "      <th>Renewed</th>\n",
       "      <th>Exited</th>\n",
       "      <th>Exited Ratio</th>\n",
       "    </tr>\n",
       "  </thead>\n",
       "  <tbody>\n",
       "    <tr>\n",
       "      <th>Customers between 18 and 33 years old and dont has credit card</th>\n",
       "      <td>857</td>\n",
       "      <td>74</td>\n",
       "      <td>0.0790</td>\n",
       "    </tr>\n",
       "    <tr>\n",
       "      <th>Customers between 34 and 49 years old and dont has credit card</th>\n",
       "      <td>1249</td>\n",
       "      <td>331</td>\n",
       "      <td>0.2090</td>\n",
       "    </tr>\n",
       "    <tr>\n",
       "      <th>Customers between 50 and 65 years old and dont has credit card</th>\n",
       "      <td>160</td>\n",
       "      <td>197</td>\n",
       "      <td>0.5520</td>\n",
       "    </tr>\n",
       "    <tr>\n",
       "      <th>Customers 65+ years old and dont has credit card</th>\n",
       "      <td>66</td>\n",
       "      <td>11</td>\n",
       "      <td>0.1430</td>\n",
       "    </tr>\n",
       "  </tbody>\n",
       "</table>\n",
       "</div>"
      ],
      "text/plain": [
       "                                                    Renewed  Exited  Exited Ratio\n",
       "Customers between 18 and 33 years old and dont ...      857      74        0.0790\n",
       "Customers between 34 and 49 years old and dont ...     1249     331        0.2090\n",
       "Customers between 50 and 65 years old and dont ...      160     197        0.5520\n",
       "Customers 65+ years old and dont has credit card         66      11        0.1430"
      ]
     },
     "execution_count": 38,
     "metadata": {},
     "output_type": "execute_result"
    }
   ],
   "source": [
    "# Customers ratio that don't have credit card\n",
    "aux4_1 = df4[(df4['has_cr_card'] == 0) & (df4['age'] >= 18) & (df4['age'] <= 33)]['exited'].value_counts()\n",
    "aux4_2 = df4[(df4['has_cr_card'] == 0) & (df4['age'] >= 34) & (df4['age'] <= 49)]['exited'].value_counts()\n",
    "aux4_3 = df4[(df4['has_cr_card'] == 0) & (df4['age'] >= 50) & (df4['age'] <= 65)]['exited'].value_counts()\n",
    "aux4_4 = df4[(df4['has_cr_card'] == 0) & (df4['age'] > 65)]['exited'].value_counts()\n",
    "\n",
    "aux4_1 = pd.DataFrame({'Customers between 18 and 33 years old and dont has credit card': aux4_1}).T.rename(columns={0: 'Renewed', 1: 'Exited'})\n",
    "aux4_2 = pd.DataFrame({'Customers between 34 and 49 years old and dont has credit card': aux4_2}).T.rename(columns={0: 'Renewed', 1: 'Exited'})\n",
    "aux4_3 = pd.DataFrame({'Customers between 50 and 65 years old and dont has credit card': aux4_3}).T.rename(columns={0: 'Renewed', 1: 'Exited'})\n",
    "aux4_4 = pd.DataFrame({'Customers 65+ years old and dont has credit card': aux4_4}).T.rename(columns={0: 'Renewed', 1: 'Exited'})\n",
    "\n",
    "pd.concat( [exited_ratio(aux4_1), exited_ratio(aux4_2), exited_ratio(aux4_3), exited_ratio(aux4_4)] )"
   ]
  },
  {
   "cell_type": "markdown",
   "id": "99e20800",
   "metadata": {
    "hidden": true
   },
   "source": [
    "### H6 - Clientes que compram mais produtos renovam o contrato."
   ]
  },
  {
   "cell_type": "markdown",
   "id": "f9dd605e",
   "metadata": {
    "hidden": true
   },
   "source": [
    "**Falso.** Aproximadamente 85% dos clientes que compram mais produtos (2+ produtos) não renovam o contrato."
   ]
  },
  {
   "cell_type": "code",
   "execution_count": 39,
   "id": "6e350b01",
   "metadata": {
    "ExecuteTime": {
     "end_time": "2021-08-06T00:49:19.177602Z",
     "start_time": "2021-08-06T00:49:19.162721Z"
    },
    "hidden": true
   },
   "outputs": [
    {
     "data": {
      "text/html": [
       "<div>\n",
       "<style scoped>\n",
       "    .dataframe tbody tr th:only-of-type {\n",
       "        vertical-align: middle;\n",
       "    }\n",
       "\n",
       "    .dataframe tbody tr th {\n",
       "        vertical-align: top;\n",
       "    }\n",
       "\n",
       "    .dataframe thead th {\n",
       "        text-align: right;\n",
       "    }\n",
       "</style>\n",
       "<table border=\"1\" class=\"dataframe\">\n",
       "  <thead>\n",
       "    <tr style=\"text-align: right;\">\n",
       "      <th></th>\n",
       "      <th>Exited</th>\n",
       "      <th>Renewed</th>\n",
       "    </tr>\n",
       "  </thead>\n",
       "  <tbody>\n",
       "    <tr>\n",
       "      <th>Customers</th>\n",
       "      <td>280</td>\n",
       "      <td>46</td>\n",
       "    </tr>\n",
       "  </tbody>\n",
       "</table>\n",
       "</div>"
      ],
      "text/plain": [
       "           Exited  Renewed\n",
       "Customers     280       46"
      ]
     },
     "execution_count": 39,
     "metadata": {},
     "output_type": "execute_result"
    }
   ],
   "source": [
    "pd.DataFrame({'Customers': df4[df4['num_of_products'] > 2]['exited'].value_counts()}).T.rename(columns={0: 'Renewed', 1: 'Exited'})"
   ]
  },
  {
   "cell_type": "code",
   "execution_count": 40,
   "id": "02c7291c",
   "metadata": {
    "ExecuteTime": {
     "end_time": "2021-08-06T00:49:19.204406Z",
     "start_time": "2021-08-06T00:49:19.178864Z"
    },
    "hidden": true,
    "scrolled": true
   },
   "outputs": [
    {
     "data": {
      "text/html": [
       "<div>\n",
       "<style scoped>\n",
       "    .dataframe tbody tr th:only-of-type {\n",
       "        vertical-align: middle;\n",
       "    }\n",
       "\n",
       "    .dataframe tbody tr th {\n",
       "        vertical-align: top;\n",
       "    }\n",
       "\n",
       "    .dataframe thead th {\n",
       "        text-align: right;\n",
       "    }\n",
       "</style>\n",
       "<table border=\"1\" class=\"dataframe\">\n",
       "  <thead>\n",
       "    <tr style=\"text-align: right;\">\n",
       "      <th></th>\n",
       "      <th>Renewed</th>\n",
       "      <th>Exited</th>\n",
       "      <th>Exited Ratio</th>\n",
       "    </tr>\n",
       "  </thead>\n",
       "  <tbody>\n",
       "    <tr>\n",
       "      <th>Customers that buy 1 product</th>\n",
       "      <td>3675</td>\n",
       "      <td>1409</td>\n",
       "      <td>0.2770</td>\n",
       "    </tr>\n",
       "    <tr>\n",
       "      <th>Customers that buy 2 product</th>\n",
       "      <td>4242</td>\n",
       "      <td>348</td>\n",
       "      <td>0.0760</td>\n",
       "    </tr>\n",
       "    <tr>\n",
       "      <th>Customers that buy 3 product</th>\n",
       "      <td>46</td>\n",
       "      <td>220</td>\n",
       "      <td>0.8270</td>\n",
       "    </tr>\n",
       "    <tr>\n",
       "      <th>Customers that buy 4 product</th>\n",
       "      <td>0</td>\n",
       "      <td>60</td>\n",
       "      <td>1.0000</td>\n",
       "    </tr>\n",
       "  </tbody>\n",
       "</table>\n",
       "</div>"
      ],
      "text/plain": [
       "                              Renewed  Exited  Exited Ratio\n",
       "Customers that buy 1 product     3675    1409        0.2770\n",
       "Customers that buy 2 product     4242     348        0.0760\n",
       "Customers that buy 3 product       46     220        0.8270\n",
       "Customers that buy 4 product        0      60        1.0000"
      ]
     },
     "execution_count": 40,
     "metadata": {},
     "output_type": "execute_result"
    }
   ],
   "source": [
    "# Customers ratio by numbers of products buyed\n",
    "aux4_1 = df4[df4['num_of_products'] == 1 ]['exited'].value_counts()\n",
    "aux4_2 = df4[df4['num_of_products'] == 2 ]['exited'].value_counts()\n",
    "aux4_3 = df4[df4['num_of_products'] == 3 ]['exited'].value_counts()\n",
    "aux4_4 = df4[df4['num_of_products'] == 4 ]['exited'].value_counts()\n",
    "aux4_4['Renewed'] = 0\n",
    "\n",
    "aux4_1 = pd.DataFrame({'Customers that buy 1 product': aux4_1}).T.rename(columns={0: 'Renewed', 1: 'Exited'})\n",
    "aux4_2 = pd.DataFrame({'Customers that buy 2 product': aux4_2}).T.rename(columns={0: 'Renewed', 1: 'Exited'})\n",
    "aux4_3 = pd.DataFrame({'Customers that buy 3 product': aux4_3}).T.rename(columns={0: 'Renewed', 1: 'Exited'})\n",
    "aux4_4 = pd.DataFrame({'Customers that buy 4 product': aux4_4}).T.rename(columns={0: 'Renewed', 1: 'Exited'})\n",
    "\n",
    "pd.concat( [exited_ratio(aux4_1), exited_ratio(aux4_2), exited_ratio(aux4_3), exited_ratio(aux4_4)] )"
   ]
  },
  {
   "cell_type": "markdown",
   "id": "b37076e6",
   "metadata": {
    "hidden": true
   },
   "source": [
    "### H7 - Clientes que permaneceram ativo por mais tempo tendem a renovar o contrato."
   ]
  },
  {
   "cell_type": "markdown",
   "id": "e65c8f5e",
   "metadata": {
    "hidden": true
   },
   "source": [
    "**Falso.** Aproximadamente 20% dos clientes que permaneceram ativos por 8+ anos não renovaram o contrato."
   ]
  },
  {
   "cell_type": "code",
   "execution_count": 41,
   "id": "df43d475",
   "metadata": {
    "ExecuteTime": {
     "end_time": "2021-08-06T00:49:19.222197Z",
     "start_time": "2021-08-06T00:49:19.207562Z"
    },
    "hidden": true
   },
   "outputs": [
    {
     "data": {
      "text/html": [
       "<div>\n",
       "<style scoped>\n",
       "    .dataframe tbody tr th:only-of-type {\n",
       "        vertical-align: middle;\n",
       "    }\n",
       "\n",
       "    .dataframe tbody tr th {\n",
       "        vertical-align: top;\n",
       "    }\n",
       "\n",
       "    .dataframe thead th {\n",
       "        text-align: right;\n",
       "    }\n",
       "</style>\n",
       "<table border=\"1\" class=\"dataframe\">\n",
       "  <thead>\n",
       "    <tr style=\"text-align: right;\">\n",
       "      <th></th>\n",
       "      <th>Renewed</th>\n",
       "      <th>Exited</th>\n",
       "    </tr>\n",
       "  </thead>\n",
       "  <tbody>\n",
       "    <tr>\n",
       "      <th>Customers</th>\n",
       "      <td>1988</td>\n",
       "      <td>511</td>\n",
       "    </tr>\n",
       "  </tbody>\n",
       "</table>\n",
       "</div>"
      ],
      "text/plain": [
       "           Renewed  Exited\n",
       "Customers     1988     511"
      ]
     },
     "execution_count": 41,
     "metadata": {},
     "output_type": "execute_result"
    }
   ],
   "source": [
    "pd.DataFrame({'Customers': df4[df4['tenure'] >= 8]['exited'].value_counts()}).T.rename(columns={0: 'Renewed', 1: 'Exited'})"
   ]
  },
  {
   "cell_type": "code",
   "execution_count": 42,
   "id": "03f8d92c",
   "metadata": {
    "ExecuteTime": {
     "end_time": "2021-08-06T00:49:19.261918Z",
     "start_time": "2021-08-06T00:49:19.226393Z"
    },
    "hidden": true
   },
   "outputs": [
    {
     "data": {
      "text/html": [
       "<div>\n",
       "<style scoped>\n",
       "    .dataframe tbody tr th:only-of-type {\n",
       "        vertical-align: middle;\n",
       "    }\n",
       "\n",
       "    .dataframe tbody tr th {\n",
       "        vertical-align: top;\n",
       "    }\n",
       "\n",
       "    .dataframe thead th {\n",
       "        text-align: right;\n",
       "    }\n",
       "</style>\n",
       "<table border=\"1\" class=\"dataframe\">\n",
       "  <thead>\n",
       "    <tr style=\"text-align: right;\">\n",
       "      <th></th>\n",
       "      <th>Renewed</th>\n",
       "      <th>Exited</th>\n",
       "      <th>Exited Ratio</th>\n",
       "    </tr>\n",
       "  </thead>\n",
       "  <tbody>\n",
       "    <tr>\n",
       "      <th>Customers that remained active less than 2 years</th>\n",
       "      <td>1968</td>\n",
       "      <td>528</td>\n",
       "      <td>0.2120</td>\n",
       "    </tr>\n",
       "    <tr>\n",
       "      <th>Customers that remained active between 2 and 4 years</th>\n",
       "      <td>1582</td>\n",
       "      <td>416</td>\n",
       "      <td>0.2080</td>\n",
       "    </tr>\n",
       "    <tr>\n",
       "      <th>Customers that remained active between 4 and 6 years</th>\n",
       "      <td>1574</td>\n",
       "      <td>405</td>\n",
       "      <td>0.2050</td>\n",
       "    </tr>\n",
       "    <tr>\n",
       "      <th>Customers that remained active between 6 and 8 years</th>\n",
       "      <td>1679</td>\n",
       "      <td>374</td>\n",
       "      <td>0.1820</td>\n",
       "    </tr>\n",
       "    <tr>\n",
       "      <th>Customers that remained active greater than 8 years</th>\n",
       "      <td>1160</td>\n",
       "      <td>314</td>\n",
       "      <td>0.2130</td>\n",
       "    </tr>\n",
       "  </tbody>\n",
       "</table>\n",
       "</div>"
      ],
      "text/plain": [
       "                                                    Renewed  Exited  Exited Ratio\n",
       "Customers that remained active less than 2 years       1968     528        0.2120\n",
       "Customers that remained active between 2 and 4 ...     1582     416        0.2080\n",
       "Customers that remained active between 4 and 6 ...     1574     405        0.2050\n",
       "Customers that remained active between 6 and 8 ...     1679     374        0.1820\n",
       "Customers that remained active greater than 8 y...     1160     314        0.2130"
      ]
     },
     "execution_count": 42,
     "metadata": {},
     "output_type": "execute_result"
    }
   ],
   "source": [
    "# Customers ratio that exited by tenure\n",
    "aux4_1 = df4[df4['tenure'] <= 2 ]['exited'].value_counts()\n",
    "aux4_2 = df4[(df4['tenure'] > 2) & (df4['tenure'] <= 4) ]['exited'].value_counts()\n",
    "aux4_3 = df4[(df4['tenure'] > 4) & (df4['tenure'] <= 6) ]['exited'].value_counts()\n",
    "aux4_4 = df4[(df4['tenure'] > 6) & (df4['tenure'] <= 8)]['exited'].value_counts()\n",
    "aux4_5 = df4[df4['tenure'] > 8 ]['exited'].value_counts()\n",
    "\n",
    "aux4_1 = pd.DataFrame({'Customers that remained active less than 2 years': aux4_1}).T.rename(columns={0: 'Renewed', 1: 'Exited'})\n",
    "aux4_2 = pd.DataFrame({'Customers that remained active between 2 and 4 years': aux4_2}).T.rename(columns={0: 'Renewed', 1: 'Exited'})\n",
    "aux4_3 = pd.DataFrame({'Customers that remained active between 4 and 6 years': aux4_3}).T.rename(columns={0: 'Renewed', 1: 'Exited'})\n",
    "aux4_4 = pd.DataFrame({'Customers that remained active between 6 and 8 years': aux4_4}).T.rename(columns={0: 'Renewed', 1: 'Exited'})\n",
    "aux4_5 = pd.DataFrame({'Customers that remained active greater than 8 years': aux4_5}).T.rename(columns={0: 'Renewed', 1: 'Exited'})\n",
    "\n",
    "pd.concat( [exited_ratio(aux4_1), exited_ratio(aux4_2), exited_ratio(aux4_3), exited_ratio(aux4_4), exited_ratio(aux4_5)] )"
   ]
  },
  {
   "cell_type": "markdown",
   "id": "acef8229",
   "metadata": {
    "hidden": true
   },
   "source": [
    "### H8 - Clientes que movimentaram a conta nos últimos 12 meses tendem a renovar o contrato."
   ]
  },
  {
   "cell_type": "markdown",
   "id": "453f806e",
   "metadata": {
    "hidden": true
   },
   "source": [
    "**Verdadeiro.** Aproximadamente 86% dos clientes que movimentaram a conta nos últimos 12 meses renovaram o contrato"
   ]
  },
  {
   "cell_type": "code",
   "execution_count": 43,
   "id": "72a29a65",
   "metadata": {
    "ExecuteTime": {
     "end_time": "2021-08-06T00:49:19.271501Z",
     "start_time": "2021-08-06T00:49:19.263016Z"
    },
    "hidden": true
   },
   "outputs": [
    {
     "data": {
      "text/html": [
       "<div>\n",
       "<style scoped>\n",
       "    .dataframe tbody tr th:only-of-type {\n",
       "        vertical-align: middle;\n",
       "    }\n",
       "\n",
       "    .dataframe tbody tr th {\n",
       "        vertical-align: top;\n",
       "    }\n",
       "\n",
       "    .dataframe thead th {\n",
       "        text-align: right;\n",
       "    }\n",
       "</style>\n",
       "<table border=\"1\" class=\"dataframe\">\n",
       "  <thead>\n",
       "    <tr style=\"text-align: right;\">\n",
       "      <th></th>\n",
       "      <th>Renewed</th>\n",
       "      <th>Exited</th>\n",
       "    </tr>\n",
       "  </thead>\n",
       "  <tbody>\n",
       "    <tr>\n",
       "      <th>Customers</th>\n",
       "      <td>4416</td>\n",
       "      <td>735</td>\n",
       "    </tr>\n",
       "  </tbody>\n",
       "</table>\n",
       "</div>"
      ],
      "text/plain": [
       "           Renewed  Exited\n",
       "Customers     4416     735"
      ]
     },
     "execution_count": 43,
     "metadata": {},
     "output_type": "execute_result"
    }
   ],
   "source": [
    "pd.DataFrame({'Customers': df4[df4['is_active_member'] == 1]['exited'].value_counts()}).T.rename(columns={0: 'Renewed', 1: 'Exited'})"
   ]
  },
  {
   "cell_type": "markdown",
   "id": "97996bd9",
   "metadata": {
    "hidden": true
   },
   "source": [
    "### H9 - Clientes que compram pelo menos 3 vezes em média no ano tendem a renovar o contrato."
   ]
  },
  {
   "cell_type": "markdown",
   "id": "84c5ce95",
   "metadata": {
    "hidden": true
   },
   "source": [
    "**Falso.** Aproximadamente 19% dos clientes que compram +3x em média no ano não renovam o contrato."
   ]
  },
  {
   "cell_type": "code",
   "execution_count": 44,
   "id": "2a4fb6b5",
   "metadata": {
    "ExecuteTime": {
     "end_time": "2021-08-06T00:49:19.285121Z",
     "start_time": "2021-08-06T00:49:19.273958Z"
    },
    "hidden": true
   },
   "outputs": [
    {
     "data": {
      "text/html": [
       "<div>\n",
       "<style scoped>\n",
       "    .dataframe tbody tr th:only-of-type {\n",
       "        vertical-align: middle;\n",
       "    }\n",
       "\n",
       "    .dataframe tbody tr th {\n",
       "        vertical-align: top;\n",
       "    }\n",
       "\n",
       "    .dataframe thead th {\n",
       "        text-align: right;\n",
       "    }\n",
       "</style>\n",
       "<table border=\"1\" class=\"dataframe\">\n",
       "  <thead>\n",
       "    <tr style=\"text-align: right;\">\n",
       "      <th></th>\n",
       "      <th>Exited</th>\n",
       "      <th>Renewed</th>\n",
       "    </tr>\n",
       "  </thead>\n",
       "  <tbody>\n",
       "    <tr>\n",
       "      <th>Customers</th>\n",
       "      <td>29</td>\n",
       "      <td>7</td>\n",
       "    </tr>\n",
       "  </tbody>\n",
       "</table>\n",
       "</div>"
      ],
      "text/plain": [
       "           Exited  Renewed\n",
       "Customers      29        7"
      ]
     },
     "execution_count": 44,
     "metadata": {},
     "output_type": "execute_result"
    }
   ],
   "source": [
    "pd.DataFrame({'Customers': df4[df4['products_buyed_per_year'] >= 3]['exited'].value_counts()}).T.rename(columns={0: 'Renewed', 1: 'Exited'})"
   ]
  },
  {
   "cell_type": "code",
   "execution_count": 45,
   "id": "6d478ba4",
   "metadata": {
    "ExecuteTime": {
     "end_time": "2021-08-06T00:49:19.323410Z",
     "start_time": "2021-08-06T00:49:19.286455Z"
    },
    "hidden": true
   },
   "outputs": [
    {
     "data": {
      "text/html": [
       "<div>\n",
       "<style scoped>\n",
       "    .dataframe tbody tr th:only-of-type {\n",
       "        vertical-align: middle;\n",
       "    }\n",
       "\n",
       "    .dataframe tbody tr th {\n",
       "        vertical-align: top;\n",
       "    }\n",
       "\n",
       "    .dataframe thead th {\n",
       "        text-align: right;\n",
       "    }\n",
       "</style>\n",
       "<table border=\"1\" class=\"dataframe\">\n",
       "  <thead>\n",
       "    <tr style=\"text-align: right;\">\n",
       "      <th></th>\n",
       "      <th>Renewed</th>\n",
       "      <th>Exited</th>\n",
       "      <th>Exited Ratio</th>\n",
       "    </tr>\n",
       "  </thead>\n",
       "  <tbody>\n",
       "    <tr>\n",
       "      <th>Customers that bought an average between 0 and 1 product</th>\n",
       "      <td>7556</td>\n",
       "      <td>1937</td>\n",
       "      <td>0.2040</td>\n",
       "    </tr>\n",
       "    <tr>\n",
       "      <th>Customers that bought an average between 1 and 2 products</th>\n",
       "      <td>400</td>\n",
       "      <td>71</td>\n",
       "      <td>0.1510</td>\n",
       "    </tr>\n",
       "    <tr>\n",
       "      <th>Customers that bought an average between 2 and 3 products</th>\n",
       "      <td>7</td>\n",
       "      <td>25</td>\n",
       "      <td>0.7810</td>\n",
       "    </tr>\n",
       "    <tr>\n",
       "      <th>Customers that bought an average more than 3 product</th>\n",
       "      <td>0</td>\n",
       "      <td>4</td>\n",
       "      <td>1.0000</td>\n",
       "    </tr>\n",
       "  </tbody>\n",
       "</table>\n",
       "</div>"
      ],
      "text/plain": [
       "                                                    Renewed  Exited  Exited Ratio\n",
       "Customers that bought an average between 0 and ...     7556    1937        0.2040\n",
       "Customers that bought an average between 1 and ...      400      71        0.1510\n",
       "Customers that bought an average between 2 and ...        7      25        0.7810\n",
       "Customers that bought an average more than 3 pr...        0       4        1.0000"
      ]
     },
     "execution_count": 45,
     "metadata": {},
     "output_type": "execute_result"
    }
   ],
   "source": [
    "# Customers ratio by numbers of products buyed per year\n",
    "aux4_1 = df4[df4['products_buyed_per_year'] <= 1 ]['exited'].value_counts()\n",
    "aux4_2 = df4[(df4['products_buyed_per_year'] > 1) & (df4['products_buyed_per_year'] <= 2) ]['exited'].value_counts()\n",
    "aux4_3 = df4[(df4['products_buyed_per_year'] > 2) & (df4['products_buyed_per_year'] <= 3)]['exited'].value_counts()\n",
    "aux4_4 = df4[df4['products_buyed_per_year'] > 3 ]['exited'].value_counts()\n",
    "aux4_4['Renewed'] = 0\n",
    "\n",
    "aux4_1 = pd.DataFrame({'Customers that bought an average between 0 and 1 product': aux4_1}).T.rename(columns={0: 'Renewed', 1: 'Exited'})\n",
    "aux4_2 = pd.DataFrame({'Customers that bought an average between 1 and 2 products': aux4_2}).T.rename(columns={0: 'Renewed', 1: 'Exited'})\n",
    "aux4_3 = pd.DataFrame({'Customers that bought an average between 2 and 3 products': aux4_3}).T.rename(columns={0: 'Renewed', 1: 'Exited'})\n",
    "aux4_4 = pd.DataFrame({'Customers that bought an average more than 3 product': aux4_4}).T.rename(columns={0: 'Renewed', 1: 'Exited'})\n",
    "\n",
    "pd.concat( [exited_ratio(aux4_1), exited_ratio(aux4_2), exited_ratio(aux4_3), exited_ratio(aux4_4)] )"
   ]
  },
  {
   "cell_type": "markdown",
   "id": "8c33e363",
   "metadata": {
    "hidden": true
   },
   "source": [
    "### 4.2.1 Hypothesis Resume"
   ]
  },
  {
   "cell_type": "code",
   "execution_count": 46,
   "id": "1618d8bd",
   "metadata": {
    "ExecuteTime": {
     "end_time": "2021-08-06T00:49:19.334749Z",
     "start_time": "2021-08-06T00:49:19.326501Z"
    },
    "hidden": true
   },
   "outputs": [
    {
     "name": "stdout",
     "output_type": "stream",
     "text": [
      "Hipoteses    Conclusao    Relevancia\n",
      "-----------  -----------  ------------\n",
      "H1           Falso        Alta\n",
      "H2           Falso        Baixa\n",
      "H3           Falso        Baixa\n",
      "H4           Falso        Media\n",
      "H5           Falso        Media\n",
      "H6           Falso        Alta\n",
      "H7           Falso        Media\n",
      "H8           Verdadeira   Alta\n",
      "H9           Falso        Alta\n"
     ]
    }
   ],
   "source": [
    "tab = [ ['Hipoteses', 'Conclusao', 'Relevancia' ],\n",
    "        ['H1', 'Falso', 'Alta'],\n",
    "        ['H2', 'Falso', 'Baixa'],\n",
    "        ['H3', 'Falso', 'Baixa'],\n",
    "        ['H4', 'Falso', 'Media'],\n",
    "        ['H5', 'Falso', 'Media'],\n",
    "        ['H6', 'Falso', 'Alta'],\n",
    "        ['H7', 'Falso', 'Media'],\n",
    "        ['H8', 'Verdadeira', 'Alta'],\n",
    "        ['H9', 'Falso', 'Alta']\n",
    "      ]\n",
    "print( tabulate( tab, headers='firstrow' ) )"
   ]
  },
  {
   "cell_type": "markdown",
   "id": "46157d03",
   "metadata": {
    "heading_collapsed": true,
    "hidden": true
   },
   "source": [
    "## 4.3 Multivariate Analysis"
   ]
  },
  {
   "cell_type": "markdown",
   "id": "c2be2eb7",
   "metadata": {
    "hidden": true
   },
   "source": [
    "### 4.3.1 Numerical Attributes"
   ]
  },
  {
   "cell_type": "code",
   "execution_count": 47,
   "id": "2350b7bd",
   "metadata": {
    "ExecuteTime": {
     "end_time": "2021-08-06T00:49:19.821261Z",
     "start_time": "2021-08-06T00:49:19.336030Z"
    },
    "hidden": true,
    "hide_input": false
   },
   "outputs": [
    {
     "data": {
      "image/png": "[encoded data removed]",
      "text/plain": [
       "<Figure size 1800x864 with 2 Axes>"
      ]
     },
     "metadata": {},
     "output_type": "display_data"
    }
   ],
   "source": [
    "correlation = num_attributes.corr( method='pearson' )\n",
    "\n",
    "# generate a mask for the upper triangle\n",
    "mask = np.triu( np.ones_like(correlation, dtype=bool) )\n",
    "\n",
    "sb.heatmap( correlation, annot=True, mask=mask );"
   ]
  },
  {
   "cell_type": "markdown",
   "id": "4dea2a6e",
   "metadata": {
    "hidden": true
   },
   "source": [
    "### 4.3.2 Categorical Attributes"
   ]
  },
  {
   "cell_type": "code",
   "execution_count": 48,
   "id": "aaf14012",
   "metadata": {
    "ExecuteTime": {
     "end_time": "2021-08-06T00:49:20.046813Z",
     "start_time": "2021-08-06T00:49:19.823997Z"
    },
    "hidden": true
   },
   "outputs": [
    {
     "data": {
      "image/png": "[encoded data removed]",
      "text/plain": [
       "<Figure size 720x576 with 2 Axes>"
      ]
     },
     "metadata": {},
     "output_type": "display_data"
    }
   ],
   "source": [
    "new_catg = cat_attributes.drop(columns=['surname'])\n",
    "\n",
    "# calculate cramer V\n",
    "catg1 = cramer_v(new_catg['geography'], new_catg['geography'])\n",
    "catg2 = cramer_v(new_catg['geography'], new_catg['gender'])\n",
    "\n",
    "catg3 = cramer_v(new_catg['gender'], new_catg['gender'])\n",
    "catg4 = cramer_v(new_catg['gender'], new_catg['geography'])\n",
    "\n",
    "result = pd.DataFrame( { 'geography': [catg1, catg2], 'gender': [catg4, catg3] } )\n",
    "result = result.set_index( result.columns )\n",
    "\n",
    "plt.figure( figsize=(10,8) )\n",
    "sb.heatmap( result, annot=True );"
   ]
  },
  {
   "cell_type": "markdown",
   "id": "3405eed1",
   "metadata": {},
   "source": [
    "# 5.0 DATA PREPARATION"
   ]
  },
  {
   "cell_type": "code",
   "execution_count": 49,
   "id": "49ca5a1c",
   "metadata": {
    "ExecuteTime": {
     "end_time": "2021-08-06T00:49:20.051551Z",
     "start_time": "2021-08-06T00:49:20.048025Z"
    }
   },
   "outputs": [],
   "source": [
    "df5 = df4.copy()"
   ]
  },
  {
   "cell_type": "markdown",
   "id": "ae0d0831",
   "metadata": {
    "ExecuteTime": {
     "end_time": "2021-08-04T03:40:57.459599Z",
     "start_time": "2021-08-04T03:40:57.445437Z"
    }
   },
   "source": [
    "## 5.1 Normalization"
   ]
  },
  {
   "cell_type": "markdown",
   "id": "33c2e140",
   "metadata": {
    "ExecuteTime": {
     "end_time": "2021-08-04T03:40:57.459599Z",
     "start_time": "2021-08-04T03:40:57.445437Z"
    }
   },
   "source": [
    "## 5.2 Rescaling"
   ]
  },
  {
   "cell_type": "code",
   "execution_count": 50,
   "id": "c32d2aad",
   "metadata": {
    "ExecuteTime": {
     "end_time": "2021-08-06T00:49:20.070907Z",
     "start_time": "2021-08-06T00:49:20.053449Z"
    }
   },
   "outputs": [],
   "source": [
    "rs = RobustScaler()\n",
    "mms = MinMaxScaler()\n",
    "\n",
    "# credit_score\n",
    "df5['credit_score'] = rs.fit_transform( df5[['credit_score']].values )\n",
    "\n",
    "# age\n",
    "df5['age'] = rs.fit_transform( df5[['age']].values )\n",
    "\n",
    "# balance\n",
    "df5['balance'] = mms.fit_transform( df5[['balance']].values )\n",
    "\n",
    "# estimated_salary\n",
    "df5['estimated_salary'] = mms.fit_transform( df5[['estimated_salary']].values )"
   ]
  },
  {
   "cell_type": "markdown",
   "id": "a49bd5d5",
   "metadata": {
    "ExecuteTime": {
     "end_time": "2021-08-04T03:40:57.459599Z",
     "start_time": "2021-08-04T03:40:57.445437Z"
    }
   },
   "source": [
    "## 5.3 Transformation"
   ]
  },
  {
   "cell_type": "markdown",
   "id": "837f5059",
   "metadata": {},
   "source": [
    "### 5.3.1 Encoding"
   ]
  },
  {
   "cell_type": "code",
   "execution_count": 51,
   "id": "740689a5",
   "metadata": {
    "ExecuteTime": {
     "end_time": "2021-08-06T00:49:20.085520Z",
     "start_time": "2021-08-06T00:49:20.076142Z"
    }
   },
   "outputs": [],
   "source": [
    "# gender\n",
    "df5['gender'] = df5['gender'].apply(lambda x: 1 if x == 'Male' else 0)\n",
    "\n",
    "# geography\n",
    "le = LabelEncoder()\n",
    "df5['geography'] = le.fit_transform( df5['geography'] )"
   ]
  },
  {
   "cell_type": "markdown",
   "id": "15c50868",
   "metadata": {},
   "source": [
    "## 5.4 SMOTE - Synthetic Minority Oversampling Technique"
   ]
  },
  {
   "cell_type": "code",
   "execution_count": 52,
   "id": "dbdaeffa",
   "metadata": {
    "ExecuteTime": {
     "end_time": "2021-08-06T00:49:20.161026Z",
     "start_time": "2021-08-06T00:49:20.088223Z"
    }
   },
   "outputs": [],
   "source": [
    "oversample = SMOTE()\n",
    "\n",
    "X_np = df5.loc[:, df5.columns != 'exited'].values\n",
    "y_np = df5['exited'].values\n",
    "\n",
    "X, y = oversample.fit_resample(X_np, y_np)"
   ]
  },
  {
   "cell_type": "code",
   "execution_count": 53,
   "id": "61718be6",
   "metadata": {
    "ExecuteTime": {
     "end_time": "2021-08-06T00:49:20.169126Z",
     "start_time": "2021-08-06T00:49:20.163122Z"
    }
   },
   "outputs": [
    {
     "name": "stdout",
     "output_type": "stream",
     "text": [
      "Class=1, n=7963 (50.0)%\n",
      "Class=0, n=7963 (50.0)%\n"
     ]
    }
   ],
   "source": [
    "# check oversample results\n",
    "counter = Counter(y)\n",
    "for k, v in counter.items():\n",
    "    dist = v / len(y) * 100\n",
    "    print(f'Class={k}, n={v} ({round(dist,2)})%')"
   ]
  },
  {
   "cell_type": "markdown",
   "id": "f565ad64",
   "metadata": {},
   "source": [
    "# 6.0 FEATURE SELECTION"
   ]
  },
  {
   "cell_type": "code",
   "execution_count": 54,
   "id": "6301ef15",
   "metadata": {
    "ExecuteTime": {
     "end_time": "2021-08-06T00:49:20.181152Z",
     "start_time": "2021-08-06T00:49:20.173434Z"
    }
   },
   "outputs": [],
   "source": [
    "df6 = df5.copy()"
   ]
  },
  {
   "cell_type": "markdown",
   "id": "45889732",
   "metadata": {},
   "source": [
    "## 6.1 Split Dataframe into training and test"
   ]
  },
  {
   "cell_type": "code",
   "execution_count": 55,
   "id": "319fead3",
   "metadata": {
    "ExecuteTime": {
     "end_time": "2021-08-06T00:49:20.193936Z",
     "start_time": "2021-08-06T00:49:20.184224Z"
    }
   },
   "outputs": [
    {
     "name": "stdout",
     "output_type": "stream",
     "text": [
      "> Spliting dataset into train and test:\n",
      "\n",
      "X_train: numbers of rows and columns: (11148, 11)\n",
      "X_test: numbers of rows and columns: (4778, 11)\n",
      "y_train: numbers of rows and columns: (11148,)\n",
      "y_test: numbers of rows and columns: (4778,)\n",
      "\n"
     ]
    }
   ],
   "source": [
    "X_train_np, X_test_np, y_train_np, y_test_np = train_test_split(X, y, test_size=0.30, random_state=34)\n",
    "\n",
    "# number of rows and columns from the sets\n",
    "print (f'> Spliting dataset into train and test:\\n')\n",
    "print ('X_train: numbers of rows and columns: {}'.format(X_train_np.shape))\n",
    "print ('X_test: numbers of rows and columns: {}'.format(X_test_np.shape))\n",
    "print ('y_train: numbers of rows and columns: {}'.format(y_train_np.shape))\n",
    "print ('y_test: numbers of rows and columns: {}\\n'.format(y_test_np.shape))"
   ]
  },
  {
   "cell_type": "markdown",
   "id": "bfe7b97d",
   "metadata": {
    "ExecuteTime": {
     "end_time": "2021-08-04T23:59:57.860538Z",
     "start_time": "2021-08-04T23:59:57.855102Z"
    }
   },
   "source": [
    "## 6.2 Boruta as Feature Selector"
   ]
  },
  {
   "cell_type": "code",
   "execution_count": 56,
   "id": "afde619e",
   "metadata": {
    "ExecuteTime": {
     "end_time": "2021-08-06T00:49:20.206799Z",
     "start_time": "2021-08-06T00:49:20.195622Z"
    }
   },
   "outputs": [],
   "source": [
    "# classifier to use on Boruta Feature Selector\n",
    "#rf = RandomForestClassifier()\n",
    "\n",
    "#boruta = BorutaPy( rf, n_estimators='auto', verbose=2, random_state=34 ).fit( X_train_np, y_train_np )"
   ]
  },
  {
   "cell_type": "markdown",
   "id": "55cc61cd",
   "metadata": {},
   "source": [
    "### 6.2.1 Best Features from Boruta"
   ]
  },
  {
   "cell_type": "code",
   "execution_count": 57,
   "id": "df478272",
   "metadata": {
    "ExecuteTime": {
     "end_time": "2021-08-06T00:49:20.214108Z",
     "start_time": "2021-08-06T00:49:20.210377Z"
    }
   },
   "outputs": [],
   "source": [
    "#cols_selected = boruta.support_.tolist()\n",
    "\n",
    "# best features\n",
    "#X_train_fs = df6.loc[:, df6.columns != 'exited']\n",
    "#cols_selected_boruta = X_train_fs.iloc[:, cols_selected].columns.to_list()\n",
    "\n",
    "# columns not selected from boruta\n",
    "#cols_not_selected_boruta = list(np.setdiff1d( X_train_fs.columns, cols_selected_boruta ))"
   ]
  },
  {
   "cell_type": "markdown",
   "id": "c05ada97",
   "metadata": {},
   "source": [
    "## 6.3. Manual Features Selection"
   ]
  },
  {
   "cell_type": "code",
   "execution_count": 58,
   "id": "5ea61811",
   "metadata": {
    "ExecuteTime": {
     "end_time": "2021-08-06T00:49:20.220224Z",
     "start_time": "2021-08-06T00:49:20.216744Z"
    }
   },
   "outputs": [],
   "source": [
    "cols_selected_boruta_full = ['age', 'balance', 'num_of_products', 'is_active_member', 'credit_score', 'estimated_salary', 'products_buyed_per_year']"
   ]
  },
  {
   "cell_type": "markdown",
   "id": "70800572",
   "metadata": {},
   "source": [
    "# 7.0 MACHINE LEARNING MODELLING"
   ]
  },
  {
   "cell_type": "code",
   "execution_count": 59,
   "id": "f45a1f49",
   "metadata": {
    "ExecuteTime": {
     "end_time": "2021-08-06T00:49:20.258241Z",
     "start_time": "2021-08-06T00:49:20.223993Z"
    }
   },
   "outputs": [],
   "source": [
    "X_train_np = filter_columns_in_numpy(X_train_np, cols_selected_boruta_full)\n",
    "X_test_np = filter_columns_in_numpy(X_test_np, cols_selected_boruta_full)"
   ]
  },
  {
   "cell_type": "markdown",
   "id": "d038d418",
   "metadata": {},
   "source": [
    "## 7.1 Baseline Model"
   ]
  },
  {
   "cell_type": "code",
   "execution_count": 119,
   "id": "6b35d8cf",
   "metadata": {
    "ExecuteTime": {
     "end_time": "2021-08-06T02:41:51.061207Z",
     "start_time": "2021-08-06T02:41:50.938334Z"
    },
    "scrolled": false
   },
   "outputs": [
    {
     "data": {
      "text/html": [
       "<div>\n",
       "<style scoped>\n",
       "    .dataframe tbody tr th:only-of-type {\n",
       "        vertical-align: middle;\n",
       "    }\n",
       "\n",
       "    .dataframe tbody tr th {\n",
       "        vertical-align: top;\n",
       "    }\n",
       "\n",
       "    .dataframe thead th {\n",
       "        text-align: right;\n",
       "    }\n",
       "</style>\n",
       "<table border=\"1\" class=\"dataframe\">\n",
       "  <thead>\n",
       "    <tr style=\"text-align: right;\">\n",
       "      <th></th>\n",
       "      <th>Accuracy</th>\n",
       "      <th>Sensitivity</th>\n",
       "      <th>Specificity</th>\n",
       "      <th>F1</th>\n",
       "      <th>ROC_AUC</th>\n",
       "      <th>Kappa</th>\n",
       "    </tr>\n",
       "  </thead>\n",
       "  <tbody>\n",
       "    <tr>\n",
       "      <th>Baseline Model</th>\n",
       "      <td>0.4960</td>\n",
       "      <td>0.0000</td>\n",
       "      <td>1.0000</td>\n",
       "      <td>0.0000</td>\n",
       "      <td>0.5000</td>\n",
       "      <td>0.0000</td>\n",
       "    </tr>\n",
       "  </tbody>\n",
       "</table>\n",
       "</div>"
      ],
      "text/plain": [
       "                Accuracy  Sensitivity  Specificity     F1  ROC_AUC  Kappa\n",
       "Baseline Model    0.4960       0.0000       1.0000 0.0000   0.5000 0.0000"
      ]
     },
     "execution_count": 119,
     "metadata": {},
     "output_type": "execute_result"
    },
    {
     "data": {
      "image/png": "[encoded data removed]",
      "text/plain": [
       "<Figure size 576x432 with 1 Axes>"
      ]
     },
     "metadata": {},
     "output_type": "display_data"
    }
   ],
   "source": [
    "dc = DummyClassifier()\n",
    "\n",
    "dc.fit(X_train_np, y_train_np)\n",
    "y_hat = dc.predict(X_test_np)\n",
    "\n",
    "bm_result = algorithm_performance('Baseline Model', y_test_np, y_hat)\n",
    "bm_result"
   ]
  },
  {
   "cell_type": "markdown",
   "id": "b89e0653",
   "metadata": {},
   "source": [
    "## 7.2 KNN"
   ]
  },
  {
   "cell_type": "code",
   "execution_count": 124,
   "id": "216c510f",
   "metadata": {
    "ExecuteTime": {
     "end_time": "2021-08-06T02:43:46.449324Z",
     "start_time": "2021-08-06T02:43:46.172710Z"
    }
   },
   "outputs": [
    {
     "data": {
      "text/html": [
       "<div>\n",
       "<style scoped>\n",
       "    .dataframe tbody tr th:only-of-type {\n",
       "        vertical-align: middle;\n",
       "    }\n",
       "\n",
       "    .dataframe tbody tr th {\n",
       "        vertical-align: top;\n",
       "    }\n",
       "\n",
       "    .dataframe thead th {\n",
       "        text-align: right;\n",
       "    }\n",
       "</style>\n",
       "<table border=\"1\" class=\"dataframe\">\n",
       "  <thead>\n",
       "    <tr style=\"text-align: right;\">\n",
       "      <th></th>\n",
       "      <th>Accuracy</th>\n",
       "      <th>Sensitivity</th>\n",
       "      <th>Specificity</th>\n",
       "      <th>F1</th>\n",
       "      <th>ROC_AUC</th>\n",
       "      <th>Kappa</th>\n",
       "    </tr>\n",
       "  </thead>\n",
       "  <tbody>\n",
       "    <tr>\n",
       "      <th>KNN</th>\n",
       "      <td>0.7960</td>\n",
       "      <td>0.8190</td>\n",
       "      <td>0.7730</td>\n",
       "      <td>0.8020</td>\n",
       "      <td>0.7960</td>\n",
       "      <td>0.5930</td>\n",
       "    </tr>\n",
       "  </tbody>\n",
       "</table>\n",
       "</div>"
      ],
      "text/plain": [
       "     Accuracy  Sensitivity  Specificity     F1  ROC_AUC  Kappa\n",
       "KNN    0.7960       0.8190       0.7730 0.8020   0.7960 0.5930"
      ]
     },
     "execution_count": 124,
     "metadata": {},
     "output_type": "execute_result"
    },
    {
     "data": {
      "image/png": "[encoded data removed]",
      "text/plain": [
       "<Figure size 576x432 with 1 Axes>"
      ]
     },
     "metadata": {},
     "output_type": "display_data"
    }
   ],
   "source": [
    "knn = KNeighborsClassifier()\n",
    "\n",
    "knn.fit(X_train_np, y_train_np)\n",
    "y_hat = knn.predict(X_test_np)\n",
    "\n",
    "knn_result = algorithm_performance('KNN', y_test_np, y_hat)\n",
    "knn_result"
   ]
  },
  {
   "cell_type": "markdown",
   "id": "278718d9",
   "metadata": {},
   "source": [
    "### 7.2.1 KNN - Cross Validation"
   ]
  },
  {
   "cell_type": "code",
   "execution_count": 136,
   "id": "0f8bbc7b",
   "metadata": {
    "ExecuteTime": {
     "end_time": "2021-08-06T02:52:47.109140Z",
     "start_time": "2021-08-06T02:52:46.444827Z"
    }
   },
   "outputs": [
    {
     "data": {
      "text/html": [
       "<div>\n",
       "<style scoped>\n",
       "    .dataframe tbody tr th:only-of-type {\n",
       "        vertical-align: middle;\n",
       "    }\n",
       "\n",
       "    .dataframe tbody tr th {\n",
       "        vertical-align: top;\n",
       "    }\n",
       "\n",
       "    .dataframe thead th {\n",
       "        text-align: right;\n",
       "    }\n",
       "</style>\n",
       "<table border=\"1\" class=\"dataframe\">\n",
       "  <thead>\n",
       "    <tr style=\"text-align: right;\">\n",
       "      <th></th>\n",
       "      <th>Accuracy</th>\n",
       "      <th>Sensitivity</th>\n",
       "      <th>Specificity</th>\n",
       "      <th>F1</th>\n",
       "      <th>ROC_AUC</th>\n",
       "      <th>Kappa</th>\n",
       "    </tr>\n",
       "  </thead>\n",
       "  <tbody>\n",
       "    <tr>\n",
       "      <th>KNN</th>\n",
       "      <td>0.7960</td>\n",
       "      <td>0.8270</td>\n",
       "      <td>0.7660</td>\n",
       "      <td>0.8020</td>\n",
       "      <td>0.7960</td>\n",
       "      <td>0.5930</td>\n",
       "    </tr>\n",
       "  </tbody>\n",
       "</table>\n",
       "</div>"
      ],
      "text/plain": [
       "     Accuracy  Sensitivity  Specificity     F1  ROC_AUC  Kappa\n",
       "KNN    0.7960       0.8270       0.7660 0.8020   0.7960 0.5930"
      ]
     },
     "execution_count": 136,
     "metadata": {},
     "output_type": "execute_result"
    },
    {
     "data": {
      "image/png": "[encoded data removed]",
      "text/plain": [
       "<Figure size 576x432 with 1 Axes>"
      ]
     },
     "metadata": {},
     "output_type": "display_data"
    }
   ],
   "source": [
    "y_hat = cross_val_predict(knn, X_train_np, y_train_np, cv=10)\n",
    "knn_result_cv = algorithm_performance('KNN',y_train_np, y_hat)\n",
    "knn_result_cv"
   ]
  },
  {
   "cell_type": "markdown",
   "id": "0a71fa46",
   "metadata": {},
   "source": [
    "## 7.3 SVM"
   ]
  },
  {
   "cell_type": "code",
   "execution_count": 126,
   "id": "7eb23bdf",
   "metadata": {
    "ExecuteTime": {
     "end_time": "2021-08-06T02:45:13.284885Z",
     "start_time": "2021-08-06T02:45:09.600155Z"
    }
   },
   "outputs": [
    {
     "data": {
      "text/html": [
       "<div>\n",
       "<style scoped>\n",
       "    .dataframe tbody tr th:only-of-type {\n",
       "        vertical-align: middle;\n",
       "    }\n",
       "\n",
       "    .dataframe tbody tr th {\n",
       "        vertical-align: top;\n",
       "    }\n",
       "\n",
       "    .dataframe thead th {\n",
       "        text-align: right;\n",
       "    }\n",
       "</style>\n",
       "<table border=\"1\" class=\"dataframe\">\n",
       "  <thead>\n",
       "    <tr style=\"text-align: right;\">\n",
       "      <th></th>\n",
       "      <th>Accuracy</th>\n",
       "      <th>Sensitivity</th>\n",
       "      <th>Specificity</th>\n",
       "      <th>F1</th>\n",
       "      <th>ROC_AUC</th>\n",
       "      <th>Kappa</th>\n",
       "    </tr>\n",
       "  </thead>\n",
       "  <tbody>\n",
       "    <tr>\n",
       "      <th>SVM</th>\n",
       "      <td>0.7610</td>\n",
       "      <td>0.7140</td>\n",
       "      <td>0.8080</td>\n",
       "      <td>0.7510</td>\n",
       "      <td>0.7610</td>\n",
       "      <td>0.5220</td>\n",
       "    </tr>\n",
       "  </tbody>\n",
       "</table>\n",
       "</div>"
      ],
      "text/plain": [
       "     Accuracy  Sensitivity  Specificity     F1  ROC_AUC  Kappa\n",
       "SVM    0.7610       0.7140       0.8080 0.7510   0.7610 0.5220"
      ]
     },
     "execution_count": 126,
     "metadata": {},
     "output_type": "execute_result"
    },
    {
     "data": {
      "image/png": "[encoded data removed]",
      "text/plain": [
       "<Figure size 576x432 with 1 Axes>"
      ]
     },
     "metadata": {},
     "output_type": "display_data"
    }
   ],
   "source": [
    "svm = SVC(gamma='auto')\n",
    "\n",
    "svm.fit(X_train_np, y_train_np)\n",
    "y_hat = svm.predict(X_test_np)\n",
    "\n",
    "svm_result = algorithm_performance('SVM', y_test_np, y_hat)\n",
    "svm_result"
   ]
  },
  {
   "cell_type": "markdown",
   "id": "6c41d741",
   "metadata": {},
   "source": [
    "### 7.3.1 SVM - Cross Validation"
   ]
  },
  {
   "cell_type": "code",
   "execution_count": 137,
   "id": "6703409e",
   "metadata": {
    "ExecuteTime": {
     "end_time": "2021-08-06T02:53:29.152911Z",
     "start_time": "2021-08-06T02:53:04.844068Z"
    }
   },
   "outputs": [
    {
     "data": {
      "text/html": [
       "<div>\n",
       "<style scoped>\n",
       "    .dataframe tbody tr th:only-of-type {\n",
       "        vertical-align: middle;\n",
       "    }\n",
       "\n",
       "    .dataframe tbody tr th {\n",
       "        vertical-align: top;\n",
       "    }\n",
       "\n",
       "    .dataframe thead th {\n",
       "        text-align: right;\n",
       "    }\n",
       "</style>\n",
       "<table border=\"1\" class=\"dataframe\">\n",
       "  <thead>\n",
       "    <tr style=\"text-align: right;\">\n",
       "      <th></th>\n",
       "      <th>Accuracy</th>\n",
       "      <th>Sensitivity</th>\n",
       "      <th>Specificity</th>\n",
       "      <th>F1</th>\n",
       "      <th>ROC_AUC</th>\n",
       "      <th>Kappa</th>\n",
       "    </tr>\n",
       "  </thead>\n",
       "  <tbody>\n",
       "    <tr>\n",
       "      <th>SVM</th>\n",
       "      <td>0.7760</td>\n",
       "      <td>0.7370</td>\n",
       "      <td>0.8150</td>\n",
       "      <td>0.7660</td>\n",
       "      <td>0.7760</td>\n",
       "      <td>0.5510</td>\n",
       "    </tr>\n",
       "  </tbody>\n",
       "</table>\n",
       "</div>"
      ],
      "text/plain": [
       "     Accuracy  Sensitivity  Specificity     F1  ROC_AUC  Kappa\n",
       "SVM    0.7760       0.7370       0.8150 0.7660   0.7760 0.5510"
      ]
     },
     "execution_count": 137,
     "metadata": {},
     "output_type": "execute_result"
    },
    {
     "data": {
      "image/png": "[encoded data removed]",
      "text/plain": [
       "<Figure size 576x432 with 1 Axes>"
      ]
     },
     "metadata": {},
     "output_type": "display_data"
    }
   ],
   "source": [
    "y_hat = cross_val_predict(svm, X_train_np, y_train_np, cv=10)\n",
    "svm_result_cv = algorithm_performance('SVM', y_train_np, y_hat)\n",
    "svm_result_cv"
   ]
  },
  {
   "cell_type": "markdown",
   "id": "2e37e6a8",
   "metadata": {},
   "source": [
    "## 7.4 XGBoost"
   ]
  },
  {
   "cell_type": "code",
   "execution_count": 128,
   "id": "01eee005",
   "metadata": {
    "ExecuteTime": {
     "end_time": "2021-08-06T02:46:26.182868Z",
     "start_time": "2021-08-06T02:46:25.561795Z"
    }
   },
   "outputs": [
    {
     "name": "stderr",
     "output_type": "stream",
     "text": [
      "/media/ronaldo/HD/Python Projects/Projetos de Portifólio/TopBank Churn Prediction/venv/lib/python3.8/site-packages/xgboost/sklearn.py:1146: UserWarning: The use of label encoder in XGBClassifier is deprecated and will be removed in a future release. To remove this warning, do the following: 1) Pass option use_label_encoder=False when constructing XGBClassifier object; and 2) Encode your labels (y) as integers starting with 0, i.e. 0, 1, 2, ..., [num_class - 1].\n",
      "  warnings.warn(label_encoder_deprecation_msg, UserWarning)\n"
     ]
    },
    {
     "name": "stdout",
     "output_type": "stream",
     "text": [
      "[23:46:25] WARNING: ../src/learner.cc:1095: Starting in XGBoost 1.3.0, the default evaluation metric used with the objective 'binary:logistic' was changed from 'error' to 'logloss'. Explicitly set eval_metric if you'd like to restore the old behavior.\n"
     ]
    },
    {
     "data": {
      "text/html": [
       "<div>\n",
       "<style scoped>\n",
       "    .dataframe tbody tr th:only-of-type {\n",
       "        vertical-align: middle;\n",
       "    }\n",
       "\n",
       "    .dataframe tbody tr th {\n",
       "        vertical-align: top;\n",
       "    }\n",
       "\n",
       "    .dataframe thead th {\n",
       "        text-align: right;\n",
       "    }\n",
       "</style>\n",
       "<table border=\"1\" class=\"dataframe\">\n",
       "  <thead>\n",
       "    <tr style=\"text-align: right;\">\n",
       "      <th></th>\n",
       "      <th>Accuracy</th>\n",
       "      <th>Sensitivity</th>\n",
       "      <th>Specificity</th>\n",
       "      <th>F1</th>\n",
       "      <th>ROC_AUC</th>\n",
       "      <th>Kappa</th>\n",
       "    </tr>\n",
       "  </thead>\n",
       "  <tbody>\n",
       "    <tr>\n",
       "      <th>XGBoost</th>\n",
       "      <td>0.8890</td>\n",
       "      <td>0.8620</td>\n",
       "      <td>0.9180</td>\n",
       "      <td>0.8870</td>\n",
       "      <td>0.8900</td>\n",
       "      <td>0.7790</td>\n",
       "    </tr>\n",
       "  </tbody>\n",
       "</table>\n",
       "</div>"
      ],
      "text/plain": [
       "         Accuracy  Sensitivity  Specificity     F1  ROC_AUC  Kappa\n",
       "XGBoost    0.8890       0.8620       0.9180 0.8870   0.8900 0.7790"
      ]
     },
     "execution_count": 128,
     "metadata": {},
     "output_type": "execute_result"
    },
    {
     "data": {
      "image/png": "[encoded data removed]",
      "text/plain": [
       "<Figure size 576x432 with 1 Axes>"
      ]
     },
     "metadata": {},
     "output_type": "display_data"
    }
   ],
   "source": [
    "xgb = XGBClassifier(random_state=34)\n",
    "\n",
    "xgb.fit(np.array(X_train_np), np.array(y_train_np))\n",
    "y_hat = xgb.predict(np.array(X_test_np))\n",
    "\n",
    "xgb_result = algorithm_performance('XGBoost', y_test_np, y_hat)\n",
    "xgb_result"
   ]
  },
  {
   "cell_type": "markdown",
   "id": "6e2d8f25",
   "metadata": {},
   "source": [
    "### 7.4.1 XGBoost - Cross Validation"
   ]
  },
  {
   "cell_type": "code",
   "execution_count": 138,
   "id": "58e47923",
   "metadata": {
    "ExecuteTime": {
     "end_time": "2021-08-06T02:53:34.424052Z",
     "start_time": "2021-08-06T02:53:29.155004Z"
    }
   },
   "outputs": [
    {
     "name": "stderr",
     "output_type": "stream",
     "text": [
      "/media/ronaldo/HD/Python Projects/Projetos de Portifólio/TopBank Churn Prediction/venv/lib/python3.8/site-packages/xgboost/sklearn.py:1146: UserWarning: The use of label encoder in XGBClassifier is deprecated and will be removed in a future release. To remove this warning, do the following: 1) Pass option use_label_encoder=False when constructing XGBClassifier object; and 2) Encode your labels (y) as integers starting with 0, i.e. 0, 1, 2, ..., [num_class - 1].\n",
      "  warnings.warn(label_encoder_deprecation_msg, UserWarning)\n"
     ]
    },
    {
     "name": "stdout",
     "output_type": "stream",
     "text": [
      "[23:53:29] WARNING: ../src/learner.cc:1095: Starting in XGBoost 1.3.0, the default evaluation metric used with the objective 'binary:logistic' was changed from 'error' to 'logloss'. Explicitly set eval_metric if you'd like to restore the old behavior.\n"
     ]
    },
    {
     "name": "stderr",
     "output_type": "stream",
     "text": [
      "/media/ronaldo/HD/Python Projects/Projetos de Portifólio/TopBank Churn Prediction/venv/lib/python3.8/site-packages/xgboost/sklearn.py:1146: UserWarning: The use of label encoder in XGBClassifier is deprecated and will be removed in a future release. To remove this warning, do the following: 1) Pass option use_label_encoder=False when constructing XGBClassifier object; and 2) Encode your labels (y) as integers starting with 0, i.e. 0, 1, 2, ..., [num_class - 1].\n",
      "  warnings.warn(label_encoder_deprecation_msg, UserWarning)\n"
     ]
    },
    {
     "name": "stdout",
     "output_type": "stream",
     "text": [
      "[23:53:29] WARNING: ../src/learner.cc:1095: Starting in XGBoost 1.3.0, the default evaluation metric used with the objective 'binary:logistic' was changed from 'error' to 'logloss'. Explicitly set eval_metric if you'd like to restore the old behavior.\n"
     ]
    },
    {
     "name": "stderr",
     "output_type": "stream",
     "text": [
      "/media/ronaldo/HD/Python Projects/Projetos de Portifólio/TopBank Churn Prediction/venv/lib/python3.8/site-packages/xgboost/sklearn.py:1146: UserWarning: The use of label encoder in XGBClassifier is deprecated and will be removed in a future release. To remove this warning, do the following: 1) Pass option use_label_encoder=False when constructing XGBClassifier object; and 2) Encode your labels (y) as integers starting with 0, i.e. 0, 1, 2, ..., [num_class - 1].\n",
      "  warnings.warn(label_encoder_deprecation_msg, UserWarning)\n"
     ]
    },
    {
     "name": "stdout",
     "output_type": "stream",
     "text": [
      "[23:53:30] WARNING: ../src/learner.cc:1095: Starting in XGBoost 1.3.0, the default evaluation metric used with the objective 'binary:logistic' was changed from 'error' to 'logloss'. Explicitly set eval_metric if you'd like to restore the old behavior.\n"
     ]
    },
    {
     "name": "stderr",
     "output_type": "stream",
     "text": [
      "/media/ronaldo/HD/Python Projects/Projetos de Portifólio/TopBank Churn Prediction/venv/lib/python3.8/site-packages/xgboost/sklearn.py:1146: UserWarning: The use of label encoder in XGBClassifier is deprecated and will be removed in a future release. To remove this warning, do the following: 1) Pass option use_label_encoder=False when constructing XGBClassifier object; and 2) Encode your labels (y) as integers starting with 0, i.e. 0, 1, 2, ..., [num_class - 1].\n",
      "  warnings.warn(label_encoder_deprecation_msg, UserWarning)\n"
     ]
    },
    {
     "name": "stdout",
     "output_type": "stream",
     "text": [
      "[23:53:30] WARNING: ../src/learner.cc:1095: Starting in XGBoost 1.3.0, the default evaluation metric used with the objective 'binary:logistic' was changed from 'error' to 'logloss'. Explicitly set eval_metric if you'd like to restore the old behavior.\n"
     ]
    },
    {
     "name": "stderr",
     "output_type": "stream",
     "text": [
      "/media/ronaldo/HD/Python Projects/Projetos de Portifólio/TopBank Churn Prediction/venv/lib/python3.8/site-packages/xgboost/sklearn.py:1146: UserWarning: The use of label encoder in XGBClassifier is deprecated and will be removed in a future release. To remove this warning, do the following: 1) Pass option use_label_encoder=False when constructing XGBClassifier object; and 2) Encode your labels (y) as integers starting with 0, i.e. 0, 1, 2, ..., [num_class - 1].\n",
      "  warnings.warn(label_encoder_deprecation_msg, UserWarning)\n"
     ]
    },
    {
     "name": "stdout",
     "output_type": "stream",
     "text": [
      "[23:53:31] WARNING: ../src/learner.cc:1095: Starting in XGBoost 1.3.0, the default evaluation metric used with the objective 'binary:logistic' was changed from 'error' to 'logloss'. Explicitly set eval_metric if you'd like to restore the old behavior.\n"
     ]
    },
    {
     "name": "stderr",
     "output_type": "stream",
     "text": [
      "/media/ronaldo/HD/Python Projects/Projetos de Portifólio/TopBank Churn Prediction/venv/lib/python3.8/site-packages/xgboost/sklearn.py:1146: UserWarning: The use of label encoder in XGBClassifier is deprecated and will be removed in a future release. To remove this warning, do the following: 1) Pass option use_label_encoder=False when constructing XGBClassifier object; and 2) Encode your labels (y) as integers starting with 0, i.e. 0, 1, 2, ..., [num_class - 1].\n",
      "  warnings.warn(label_encoder_deprecation_msg, UserWarning)\n"
     ]
    },
    {
     "name": "stdout",
     "output_type": "stream",
     "text": [
      "[23:53:31] WARNING: ../src/learner.cc:1095: Starting in XGBoost 1.3.0, the default evaluation metric used with the objective 'binary:logistic' was changed from 'error' to 'logloss'. Explicitly set eval_metric if you'd like to restore the old behavior.\n"
     ]
    },
    {
     "name": "stderr",
     "output_type": "stream",
     "text": [
      "/media/ronaldo/HD/Python Projects/Projetos de Portifólio/TopBank Churn Prediction/venv/lib/python3.8/site-packages/xgboost/sklearn.py:1146: UserWarning: The use of label encoder in XGBClassifier is deprecated and will be removed in a future release. To remove this warning, do the following: 1) Pass option use_label_encoder=False when constructing XGBClassifier object; and 2) Encode your labels (y) as integers starting with 0, i.e. 0, 1, 2, ..., [num_class - 1].\n",
      "  warnings.warn(label_encoder_deprecation_msg, UserWarning)\n"
     ]
    },
    {
     "name": "stdout",
     "output_type": "stream",
     "text": [
      "[23:53:32] WARNING: ../src/learner.cc:1095: Starting in XGBoost 1.3.0, the default evaluation metric used with the objective 'binary:logistic' was changed from 'error' to 'logloss'. Explicitly set eval_metric if you'd like to restore the old behavior.\n"
     ]
    },
    {
     "name": "stderr",
     "output_type": "stream",
     "text": [
      "/media/ronaldo/HD/Python Projects/Projetos de Portifólio/TopBank Churn Prediction/venv/lib/python3.8/site-packages/xgboost/sklearn.py:1146: UserWarning: The use of label encoder in XGBClassifier is deprecated and will be removed in a future release. To remove this warning, do the following: 1) Pass option use_label_encoder=False when constructing XGBClassifier object; and 2) Encode your labels (y) as integers starting with 0, i.e. 0, 1, 2, ..., [num_class - 1].\n",
      "  warnings.warn(label_encoder_deprecation_msg, UserWarning)\n"
     ]
    },
    {
     "name": "stdout",
     "output_type": "stream",
     "text": [
      "[23:53:32] WARNING: ../src/learner.cc:1095: Starting in XGBoost 1.3.0, the default evaluation metric used with the objective 'binary:logistic' was changed from 'error' to 'logloss'. Explicitly set eval_metric if you'd like to restore the old behavior.\n"
     ]
    },
    {
     "name": "stderr",
     "output_type": "stream",
     "text": [
      "/media/ronaldo/HD/Python Projects/Projetos de Portifólio/TopBank Churn Prediction/venv/lib/python3.8/site-packages/xgboost/sklearn.py:1146: UserWarning: The use of label encoder in XGBClassifier is deprecated and will be removed in a future release. To remove this warning, do the following: 1) Pass option use_label_encoder=False when constructing XGBClassifier object; and 2) Encode your labels (y) as integers starting with 0, i.e. 0, 1, 2, ..., [num_class - 1].\n",
      "  warnings.warn(label_encoder_deprecation_msg, UserWarning)\n"
     ]
    },
    {
     "name": "stdout",
     "output_type": "stream",
     "text": [
      "[23:53:33] WARNING: ../src/learner.cc:1095: Starting in XGBoost 1.3.0, the default evaluation metric used with the objective 'binary:logistic' was changed from 'error' to 'logloss'. Explicitly set eval_metric if you'd like to restore the old behavior.\n"
     ]
    },
    {
     "name": "stderr",
     "output_type": "stream",
     "text": [
      "/media/ronaldo/HD/Python Projects/Projetos de Portifólio/TopBank Churn Prediction/venv/lib/python3.8/site-packages/xgboost/sklearn.py:1146: UserWarning: The use of label encoder in XGBClassifier is deprecated and will be removed in a future release. To remove this warning, do the following: 1) Pass option use_label_encoder=False when constructing XGBClassifier object; and 2) Encode your labels (y) as integers starting with 0, i.e. 0, 1, 2, ..., [num_class - 1].\n",
      "  warnings.warn(label_encoder_deprecation_msg, UserWarning)\n"
     ]
    },
    {
     "name": "stdout",
     "output_type": "stream",
     "text": [
      "[23:53:33] WARNING: ../src/learner.cc:1095: Starting in XGBoost 1.3.0, the default evaluation metric used with the objective 'binary:logistic' was changed from 'error' to 'logloss'. Explicitly set eval_metric if you'd like to restore the old behavior.\n"
     ]
    },
    {
     "data": {
      "text/html": [
       "<div>\n",
       "<style scoped>\n",
       "    .dataframe tbody tr th:only-of-type {\n",
       "        vertical-align: middle;\n",
       "    }\n",
       "\n",
       "    .dataframe tbody tr th {\n",
       "        vertical-align: top;\n",
       "    }\n",
       "\n",
       "    .dataframe thead th {\n",
       "        text-align: right;\n",
       "    }\n",
       "</style>\n",
       "<table border=\"1\" class=\"dataframe\">\n",
       "  <thead>\n",
       "    <tr style=\"text-align: right;\">\n",
       "      <th></th>\n",
       "      <th>Accuracy</th>\n",
       "      <th>Sensitivity</th>\n",
       "      <th>Specificity</th>\n",
       "      <th>F1</th>\n",
       "      <th>ROC_AUC</th>\n",
       "      <th>Kappa</th>\n",
       "    </tr>\n",
       "  </thead>\n",
       "  <tbody>\n",
       "    <tr>\n",
       "      <th>XGBoost</th>\n",
       "      <td>0.8880</td>\n",
       "      <td>0.8650</td>\n",
       "      <td>0.9110</td>\n",
       "      <td>0.8850</td>\n",
       "      <td>0.8880</td>\n",
       "      <td>0.7760</td>\n",
       "    </tr>\n",
       "  </tbody>\n",
       "</table>\n",
       "</div>"
      ],
      "text/plain": [
       "         Accuracy  Sensitivity  Specificity     F1  ROC_AUC  Kappa\n",
       "XGBoost    0.8880       0.8650       0.9110 0.8850   0.8880 0.7760"
      ]
     },
     "execution_count": 138,
     "metadata": {},
     "output_type": "execute_result"
    },
    {
     "data": {
      "image/png": "[encoded data removed]",
      "text/plain": [
       "<Figure size 576x432 with 1 Axes>"
      ]
     },
     "metadata": {},
     "output_type": "display_data"
    }
   ],
   "source": [
    "y_hat = cross_val_predict(xgb, np.array(X_train_np), np.array(y_train_np), cv=10)\n",
    "xgb_result_cv = algorithm_performance('XGBoost', np.array(y_train_np), y_hat)\n",
    "xgb_result_cv"
   ]
  },
  {
   "cell_type": "markdown",
   "id": "fa6f5378",
   "metadata": {},
   "source": [
    "## 7.5 Random Forest"
   ]
  },
  {
   "cell_type": "code",
   "execution_count": 131,
   "id": "a6f92ce9",
   "metadata": {
    "ExecuteTime": {
     "end_time": "2021-08-06T02:47:19.985637Z",
     "start_time": "2021-08-06T02:47:18.618593Z"
    }
   },
   "outputs": [
    {
     "data": {
      "text/html": [
       "<div>\n",
       "<style scoped>\n",
       "    .dataframe tbody tr th:only-of-type {\n",
       "        vertical-align: middle;\n",
       "    }\n",
       "\n",
       "    .dataframe tbody tr th {\n",
       "        vertical-align: top;\n",
       "    }\n",
       "\n",
       "    .dataframe thead th {\n",
       "        text-align: right;\n",
       "    }\n",
       "</style>\n",
       "<table border=\"1\" class=\"dataframe\">\n",
       "  <thead>\n",
       "    <tr style=\"text-align: right;\">\n",
       "      <th></th>\n",
       "      <th>Accuracy</th>\n",
       "      <th>Sensitivity</th>\n",
       "      <th>Specificity</th>\n",
       "      <th>F1</th>\n",
       "      <th>ROC_AUC</th>\n",
       "      <th>Kappa</th>\n",
       "    </tr>\n",
       "  </thead>\n",
       "  <tbody>\n",
       "    <tr>\n",
       "      <th>Random Forest</th>\n",
       "      <td>0.8640</td>\n",
       "      <td>0.8470</td>\n",
       "      <td>0.8810</td>\n",
       "      <td>0.8630</td>\n",
       "      <td>0.8640</td>\n",
       "      <td>0.7280</td>\n",
       "    </tr>\n",
       "  </tbody>\n",
       "</table>\n",
       "</div>"
      ],
      "text/plain": [
       "               Accuracy  Sensitivity  Specificity     F1  ROC_AUC  Kappa\n",
       "Random Forest    0.8640       0.8470       0.8810 0.8630   0.8640 0.7280"
      ]
     },
     "execution_count": 131,
     "metadata": {},
     "output_type": "execute_result"
    },
    {
     "data": {
      "image/png": "[encoded data removed]",
      "text/plain": [
       "<Figure size 576x432 with 1 Axes>"
      ]
     },
     "metadata": {},
     "output_type": "display_data"
    }
   ],
   "source": [
    "rf = RandomForestClassifier()\n",
    "\n",
    "rf.fit(np.array(X_train_np), np.array(y_train_np))\n",
    "y_hat = rf.predict(np.array(X_test_np))\n",
    "\n",
    "rf_result = algorithm_performance('Random Forest', y_test_np, y_hat)\n",
    "rf_result"
   ]
  },
  {
   "cell_type": "markdown",
   "id": "4ec97489",
   "metadata": {},
   "source": [
    "### 7.5.1 Random Forest - Cross Validation"
   ]
  },
  {
   "cell_type": "code",
   "execution_count": 139,
   "id": "3598ee85",
   "metadata": {
    "ExecuteTime": {
     "end_time": "2021-08-06T02:53:45.656617Z",
     "start_time": "2021-08-06T02:53:34.426246Z"
    }
   },
   "outputs": [
    {
     "data": {
      "text/html": [
       "<div>\n",
       "<style scoped>\n",
       "    .dataframe tbody tr th:only-of-type {\n",
       "        vertical-align: middle;\n",
       "    }\n",
       "\n",
       "    .dataframe tbody tr th {\n",
       "        vertical-align: top;\n",
       "    }\n",
       "\n",
       "    .dataframe thead th {\n",
       "        text-align: right;\n",
       "    }\n",
       "</style>\n",
       "<table border=\"1\" class=\"dataframe\">\n",
       "  <thead>\n",
       "    <tr style=\"text-align: right;\">\n",
       "      <th></th>\n",
       "      <th>Accuracy</th>\n",
       "      <th>Sensitivity</th>\n",
       "      <th>Specificity</th>\n",
       "      <th>F1</th>\n",
       "      <th>ROC_AUC</th>\n",
       "      <th>Kappa</th>\n",
       "    </tr>\n",
       "  </thead>\n",
       "  <tbody>\n",
       "    <tr>\n",
       "      <th>Random Forest</th>\n",
       "      <td>0.8640</td>\n",
       "      <td>0.8490</td>\n",
       "      <td>0.8790</td>\n",
       "      <td>0.8620</td>\n",
       "      <td>0.8640</td>\n",
       "      <td>0.7280</td>\n",
       "    </tr>\n",
       "  </tbody>\n",
       "</table>\n",
       "</div>"
      ],
      "text/plain": [
       "               Accuracy  Sensitivity  Specificity     F1  ROC_AUC  Kappa\n",
       "Random Forest    0.8640       0.8490       0.8790 0.8620   0.8640 0.7280"
      ]
     },
     "execution_count": 139,
     "metadata": {},
     "output_type": "execute_result"
    },
    {
     "data": {
      "image/png": "[encoded data removed]",
      "text/plain": [
       "<Figure size 576x432 with 1 Axes>"
      ]
     },
     "metadata": {},
     "output_type": "display_data"
    }
   ],
   "source": [
    "y_hat = cross_val_predict(rf, np.array(X_train_np), np.array(y_train_np), cv=10)\n",
    "rf_result_cv = algorithm_performance('Random Forest', np.array(y_train_np), y_hat)\n",
    "rf_result_cv"
   ]
  },
  {
   "cell_type": "markdown",
   "id": "10dfdf99",
   "metadata": {},
   "source": [
    "## 7.6 Compare Models Performance"
   ]
  },
  {
   "cell_type": "markdown",
   "id": "7b33d044",
   "metadata": {},
   "source": [
    "### 7.6.1 Single Performance"
   ]
  },
  {
   "cell_type": "code",
   "execution_count": 134,
   "id": "ade674e7",
   "metadata": {
    "ExecuteTime": {
     "end_time": "2021-08-06T02:51:05.602675Z",
     "start_time": "2021-08-06T02:51:05.591548Z"
    }
   },
   "outputs": [
    {
     "data": {
      "text/html": [
       "<div>\n",
       "<style scoped>\n",
       "    .dataframe tbody tr th:only-of-type {\n",
       "        vertical-align: middle;\n",
       "    }\n",
       "\n",
       "    .dataframe tbody tr th {\n",
       "        vertical-align: top;\n",
       "    }\n",
       "\n",
       "    .dataframe thead th {\n",
       "        text-align: right;\n",
       "    }\n",
       "</style>\n",
       "<table border=\"1\" class=\"dataframe\">\n",
       "  <thead>\n",
       "    <tr style=\"text-align: right;\">\n",
       "      <th></th>\n",
       "      <th>Accuracy</th>\n",
       "      <th>Sensitivity</th>\n",
       "      <th>Specificity</th>\n",
       "      <th>F1</th>\n",
       "      <th>ROC_AUC</th>\n",
       "      <th>Kappa</th>\n",
       "    </tr>\n",
       "  </thead>\n",
       "  <tbody>\n",
       "    <tr>\n",
       "      <th>XGBoost</th>\n",
       "      <td>0.8890</td>\n",
       "      <td>0.8620</td>\n",
       "      <td>0.9180</td>\n",
       "      <td>0.8870</td>\n",
       "      <td>0.8900</td>\n",
       "      <td>0.7790</td>\n",
       "    </tr>\n",
       "    <tr>\n",
       "      <th>Random Forest</th>\n",
       "      <td>0.8640</td>\n",
       "      <td>0.8470</td>\n",
       "      <td>0.8810</td>\n",
       "      <td>0.8630</td>\n",
       "      <td>0.8640</td>\n",
       "      <td>0.7280</td>\n",
       "    </tr>\n",
       "    <tr>\n",
       "      <th>KNN</th>\n",
       "      <td>0.7960</td>\n",
       "      <td>0.8190</td>\n",
       "      <td>0.7730</td>\n",
       "      <td>0.8020</td>\n",
       "      <td>0.7960</td>\n",
       "      <td>0.5930</td>\n",
       "    </tr>\n",
       "    <tr>\n",
       "      <th>SVM</th>\n",
       "      <td>0.7610</td>\n",
       "      <td>0.7140</td>\n",
       "      <td>0.8080</td>\n",
       "      <td>0.7510</td>\n",
       "      <td>0.7610</td>\n",
       "      <td>0.5220</td>\n",
       "    </tr>\n",
       "    <tr>\n",
       "      <th>Baseline Model</th>\n",
       "      <td>0.4960</td>\n",
       "      <td>0.0000</td>\n",
       "      <td>1.0000</td>\n",
       "      <td>0.0000</td>\n",
       "      <td>0.5000</td>\n",
       "      <td>0.0000</td>\n",
       "    </tr>\n",
       "  </tbody>\n",
       "</table>\n",
       "</div>"
      ],
      "text/plain": [
       "                Accuracy  Sensitivity  Specificity     F1  ROC_AUC  Kappa\n",
       "XGBoost           0.8890       0.8620       0.9180 0.8870   0.8900 0.7790\n",
       "Random Forest     0.8640       0.8470       0.8810 0.8630   0.8640 0.7280\n",
       "KNN               0.7960       0.8190       0.7730 0.8020   0.7960 0.5930\n",
       "SVM               0.7610       0.7140       0.8080 0.7510   0.7610 0.5220\n",
       "Baseline Model    0.4960       0.0000       1.0000 0.0000   0.5000 0.0000"
      ]
     },
     "execution_count": 134,
     "metadata": {},
     "output_type": "execute_result"
    }
   ],
   "source": [
    "modelling_result = pd.concat( [bm_result, knn_result, svm_result, xgb_result, rf_result] )\n",
    "modelling_result.sort_values( 'Accuracy' , ascending=False)"
   ]
  },
  {
   "cell_type": "markdown",
   "id": "e5b679af",
   "metadata": {},
   "source": [
    "### 7.6.2 Real Performance - Cross Validation"
   ]
  },
  {
   "cell_type": "code",
   "execution_count": 140,
   "id": "c3dfdf74",
   "metadata": {
    "ExecuteTime": {
     "end_time": "2021-08-06T02:53:52.898029Z",
     "start_time": "2021-08-06T02:53:52.883465Z"
    }
   },
   "outputs": [
    {
     "data": {
      "text/html": [
       "<div>\n",
       "<style scoped>\n",
       "    .dataframe tbody tr th:only-of-type {\n",
       "        vertical-align: middle;\n",
       "    }\n",
       "\n",
       "    .dataframe tbody tr th {\n",
       "        vertical-align: top;\n",
       "    }\n",
       "\n",
       "    .dataframe thead th {\n",
       "        text-align: right;\n",
       "    }\n",
       "</style>\n",
       "<table border=\"1\" class=\"dataframe\">\n",
       "  <thead>\n",
       "    <tr style=\"text-align: right;\">\n",
       "      <th></th>\n",
       "      <th>Accuracy</th>\n",
       "      <th>Sensitivity</th>\n",
       "      <th>Specificity</th>\n",
       "      <th>F1</th>\n",
       "      <th>ROC_AUC</th>\n",
       "      <th>Kappa</th>\n",
       "    </tr>\n",
       "  </thead>\n",
       "  <tbody>\n",
       "    <tr>\n",
       "      <th>XGBoost</th>\n",
       "      <td>0.8880</td>\n",
       "      <td>0.8650</td>\n",
       "      <td>0.9110</td>\n",
       "      <td>0.8850</td>\n",
       "      <td>0.8880</td>\n",
       "      <td>0.7760</td>\n",
       "    </tr>\n",
       "    <tr>\n",
       "      <th>Random Forest</th>\n",
       "      <td>0.8640</td>\n",
       "      <td>0.8490</td>\n",
       "      <td>0.8790</td>\n",
       "      <td>0.8620</td>\n",
       "      <td>0.8640</td>\n",
       "      <td>0.7280</td>\n",
       "    </tr>\n",
       "    <tr>\n",
       "      <th>KNN</th>\n",
       "      <td>0.7960</td>\n",
       "      <td>0.8270</td>\n",
       "      <td>0.7660</td>\n",
       "      <td>0.8020</td>\n",
       "      <td>0.7960</td>\n",
       "      <td>0.5930</td>\n",
       "    </tr>\n",
       "    <tr>\n",
       "      <th>SVM</th>\n",
       "      <td>0.7760</td>\n",
       "      <td>0.7370</td>\n",
       "      <td>0.8150</td>\n",
       "      <td>0.7660</td>\n",
       "      <td>0.7760</td>\n",
       "      <td>0.5510</td>\n",
       "    </tr>\n",
       "  </tbody>\n",
       "</table>\n",
       "</div>"
      ],
      "text/plain": [
       "               Accuracy  Sensitivity  Specificity     F1  ROC_AUC  Kappa\n",
       "XGBoost          0.8880       0.8650       0.9110 0.8850   0.8880 0.7760\n",
       "Random Forest    0.8640       0.8490       0.8790 0.8620   0.8640 0.7280\n",
       "KNN              0.7960       0.8270       0.7660 0.8020   0.7960 0.5930\n",
       "SVM              0.7760       0.7370       0.8150 0.7660   0.7760 0.5510"
      ]
     },
     "execution_count": 140,
     "metadata": {},
     "output_type": "execute_result"
    }
   ],
   "source": [
    "modelling_result = pd.concat( [knn_result_cv, svm_result_cv, xgb_result_cv, rf_result_cv] )\n",
    "modelling_result.sort_values( 'Accuracy' , ascending=False)"
   ]
  }
 ],
 "metadata": {
  "kernelspec": {
   "display_name": "Python 3 (ipykernel)",
   "language": "python",
   "name": "python3"
  },
  "language_info": {
   "codemirror_mode": {
    "name": "ipython",
    "version": 3
   },
   "file_extension": ".py",
   "mimetype": "text/x-python",
   "name": "python",
   "nbconvert_exporter": "python",
   "pygments_lexer": "ipython3",
   "version": "3.8.10"
  }
 },
 "nbformat": 4,
 "nbformat_minor": 5
}
