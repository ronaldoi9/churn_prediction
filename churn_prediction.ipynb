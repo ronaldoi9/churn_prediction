{
 "cells": [
  {
   "cell_type": "markdown",
   "id": "5cd5e7eb",
   "metadata": {
    "ExecuteTime": {
     "end_time": "2021-07-27T19:50:10.408092Z",
     "start_time": "2021-07-27T19:50:10.404670Z"
    }
   },
   "source": [
    "# 0.0 IMPORTS"
   ]
  },
  {
   "cell_type": "code",
   "execution_count": 45,
   "id": "2d872a8d",
   "metadata": {
    "ExecuteTime": {
     "end_time": "2021-07-27T21:11:50.660252Z",
     "start_time": "2021-07-27T21:11:50.654810Z"
    }
   },
   "outputs": [],
   "source": [
    "import pandas as pd\n",
    "import seaborn as sb\n",
    "import numpy as np\n",
    "import matplotlib.pyplot as plt\n",
    "\n",
    "import inflection\n",
    "\n",
    "from IPython.display import Image\n",
    "from IPython.display import HTML"
   ]
  },
  {
   "cell_type": "markdown",
   "id": "9eeee74a",
   "metadata": {},
   "source": [
    "## 0.1 Helper Functions"
   ]
  },
  {
   "cell_type": "code",
   "execution_count": 62,
   "id": "995a0042",
   "metadata": {
    "ExecuteTime": {
     "end_time": "2021-07-27T21:22:52.819813Z",
     "start_time": "2021-07-27T21:22:52.808265Z"
    }
   },
   "outputs": [],
   "source": [
    "def jupyter_settings():\n",
    "  \n",
    "    %matplotlib inline\n",
    "    %pylab inline\n",
    "  \n",
    "    plt.style.use( 'bmh' )\n",
    "    plt.rcParams['figure.figsize'] = [25,12]\n",
    "    plt.rcParams['font.size'] = 24\n",
    "  \n",
    "    display( HTML( '<style>.container { width: 100% !important; }</style>' ) )\n",
    "    pd.options.display.max_columns = None\n",
    "    pd.options.display.max_rows = None\n",
    "    pd.options.display.float_format = '{:.4f}'.format\n",
    "    pd.set_option( 'display.expand_frame_repr', False )\n",
    "  \n",
    "    sb.set()"
   ]
  },
  {
   "cell_type": "code",
   "execution_count": 63,
   "id": "6bf47b9c",
   "metadata": {
    "ExecuteTime": {
     "end_time": "2021-07-27T21:22:54.004803Z",
     "start_time": "2021-07-27T21:22:53.992612Z"
    }
   },
   "outputs": [
    {
     "name": "stdout",
     "output_type": "stream",
     "text": [
      "Populating the interactive namespace from numpy and matplotlib\n"
     ]
    },
    {
     "data": {
      "text/html": [
       "<style>.container { width: 100% !important; }</style>"
      ],
      "text/plain": [
       "<IPython.core.display.HTML object>"
      ]
     },
     "metadata": {},
     "output_type": "display_data"
    }
   ],
   "source": [
    "jupyter_settings()"
   ]
  },
  {
   "cell_type": "markdown",
   "id": "6b7b8a60",
   "metadata": {},
   "source": [
    "## 0.2 Loading Data"
   ]
  },
  {
   "cell_type": "code",
   "execution_count": 61,
   "id": "75f7c72c",
   "metadata": {
    "ExecuteTime": {
     "end_time": "2021-07-27T21:20:50.388841Z",
     "start_time": "2021-07-27T21:20:50.364682Z"
    }
   },
   "outputs": [],
   "source": [
    "df_raw = pd.read_csv('data/churn.csv')\n",
    "df_raw = df_raw.drop(['RowNumber'], axis=1)"
   ]
  },
  {
   "cell_type": "markdown",
   "id": "38697fa1",
   "metadata": {},
   "source": [
    "# 1.0 DATA DESCRIPTION"
   ]
  },
  {
   "cell_type": "code",
   "execution_count": 55,
   "id": "065537a3",
   "metadata": {
    "ExecuteTime": {
     "end_time": "2021-07-27T21:20:05.225957Z",
     "start_time": "2021-07-27T21:20:05.221692Z"
    }
   },
   "outputs": [],
   "source": [
    "df1 = df_raw.copy()"
   ]
  },
  {
   "cell_type": "markdown",
   "id": "73abf12b",
   "metadata": {},
   "source": [
    "## 1.1 Rename Columns"
   ]
  },
  {
   "cell_type": "code",
   "execution_count": 56,
   "id": "5cd77189",
   "metadata": {
    "ExecuteTime": {
     "end_time": "2021-07-27T21:20:06.388492Z",
     "start_time": "2021-07-27T21:20:06.380914Z"
    }
   },
   "outputs": [],
   "source": [
    "old_columns = df1.columns\n",
    "\n",
    "snakecase = lambda x: inflection.underscore(x)\n",
    "\n",
    "new_columns = list( map(snakecase, old_columns) )\n",
    "\n",
    "#rename\n",
    "df1.columns = new_columns"
   ]
  },
  {
   "cell_type": "markdown",
   "id": "fd6790f8",
   "metadata": {},
   "source": [
    "## 1.2 Data Dimensions"
   ]
  },
  {
   "cell_type": "code",
   "execution_count": 57,
   "id": "0ffa2520",
   "metadata": {
    "ExecuteTime": {
     "end_time": "2021-07-27T21:20:08.537300Z",
     "start_time": "2021-07-27T21:20:08.532723Z"
    }
   },
   "outputs": [
    {
     "name": "stdout",
     "output_type": "stream",
     "text": [
      "Number of rows: 10000\n",
      "Number of columns: 13\n"
     ]
    }
   ],
   "source": [
    "print(f'Number of rows: {df1.shape[0]}')\n",
    "print(f'Number of columns: {df1.shape[1]}')"
   ]
  },
  {
   "cell_type": "markdown",
   "id": "d98a61ac",
   "metadata": {},
   "source": [
    "## 1.3 Data Types"
   ]
  },
  {
   "cell_type": "code",
   "execution_count": 58,
   "id": "7f5b0980",
   "metadata": {
    "ExecuteTime": {
     "end_time": "2021-07-27T21:20:10.253483Z",
     "start_time": "2021-07-27T21:20:10.243942Z"
    }
   },
   "outputs": [
    {
     "data": {
      "text/plain": [
       "customer_id           int64\n",
       "surname              object\n",
       "credit_score          int64\n",
       "geography            object\n",
       "gender               object\n",
       "age                   int64\n",
       "tenure                int64\n",
       "balance             float64\n",
       "num_of_products       int64\n",
       "has_cr_card           int64\n",
       "is_active_member      int64\n",
       "estimated_salary    float64\n",
       "exited                int64\n",
       "dtype: object"
      ]
     },
     "execution_count": 58,
     "metadata": {},
     "output_type": "execute_result"
    }
   ],
   "source": [
    "df1.dtypes"
   ]
  },
  {
   "cell_type": "markdown",
   "id": "3af5874f",
   "metadata": {},
   "source": [
    "## 1.4 Check NA"
   ]
  },
  {
   "cell_type": "code",
   "execution_count": 40,
   "id": "4b68b0f2",
   "metadata": {
    "ExecuteTime": {
     "end_time": "2021-07-27T21:06:07.800563Z",
     "start_time": "2021-07-27T21:06:07.787622Z"
    },
    "scrolled": true
   },
   "outputs": [
    {
     "data": {
      "text/plain": [
       "customer_id         0\n",
       "surname             0\n",
       "credit_score        0\n",
       "geography           0\n",
       "gender              0\n",
       "age                 0\n",
       "tenure              0\n",
       "balance             0\n",
       "num_of_products     0\n",
       "has_cr_card         0\n",
       "is_active_member    0\n",
       "estimated_salary    0\n",
       "exited              0\n",
       "dtype: int64"
      ]
     },
     "execution_count": 40,
     "metadata": {},
     "output_type": "execute_result"
    }
   ],
   "source": [
    "df1.isna().sum()"
   ]
  },
  {
   "cell_type": "markdown",
   "id": "1c51ce63",
   "metadata": {},
   "source": [
    "## 1.5 Descriptive Statistical"
   ]
  },
  {
   "cell_type": "code",
   "execution_count": 41,
   "id": "f4e36aa5",
   "metadata": {
    "ExecuteTime": {
     "end_time": "2021-07-27T21:09:38.265062Z",
     "start_time": "2021-07-27T21:09:38.256162Z"
    }
   },
   "outputs": [],
   "source": [
    "# select numerical columns\n",
    "num_attributes = df1.select_dtypes(include=['int64', 'float64'])\n",
    "\n",
    "# select categorical columns\n",
    "cat_attributes = df1.select_dtypes(exclude=['int64', 'float64'])"
   ]
  },
  {
   "cell_type": "markdown",
   "id": "3f3a3098",
   "metadata": {},
   "source": [
    "### 1.5.1 Numerical Attributes"
   ]
  },
  {
   "cell_type": "code",
   "execution_count": 52,
   "id": "09f31f6d",
   "metadata": {
    "ExecuteTime": {
     "end_time": "2021-07-27T21:19:30.374265Z",
     "start_time": "2021-07-27T21:19:30.327652Z"
    }
   },
   "outputs": [],
   "source": [
    "# Central Tendency - Mean, Median\n",
    "ct1 = pd.DataFrame( num_attributes.apply( np.mean ) ).T\n",
    "ct2 = pd.DataFrame( num_attributes.apply( np.median ) ).T\n",
    "\n",
    "# Dispersion - Std, Min, Max, Range, Skew, Kurtosis\n",
    "d1 = pd.DataFrame( num_attributes.apply( np.std ) ).T\n",
    "d2 = pd.DataFrame( num_attributes.apply( min ) ).T\n",
    "d3 = pd.DataFrame( num_attributes.apply( max ) ).T\n",
    "d4 = pd.DataFrame( num_attributes.apply( lambda x: x.max() - x.min() ) ).T\n",
    "d5 = pd.DataFrame( num_attributes.apply( lambda x: x.skew() ) ).T\n",
    "d6 = pd.DataFrame( num_attributes.apply( lambda x: x.kurtosis() ) ).T\n",
    "\n",
    "# Concatenate\n",
    "metrics = pd.concat( [d2, d3, d4, ct1, ct2, d1, d5, d6] ).T.reset_index()\n",
    "metrics.columns = ( ['attributes', 'min', 'max', 'range', 'mean', 'median', 'std', 'skew', 'kurtosis'] )"
   ]
  },
  {
   "cell_type": "code",
   "execution_count": 64,
   "id": "ebf29853",
   "metadata": {
    "ExecuteTime": {
     "end_time": "2021-07-27T21:22:58.278953Z",
     "start_time": "2021-07-27T21:22:58.265505Z"
    }
   },
   "outputs": [
    {
     "data": {
      "text/html": [
       "<div>\n",
       "<style scoped>\n",
       "    .dataframe tbody tr th:only-of-type {\n",
       "        vertical-align: middle;\n",
       "    }\n",
       "\n",
       "    .dataframe tbody tr th {\n",
       "        vertical-align: top;\n",
       "    }\n",
       "\n",
       "    .dataframe thead th {\n",
       "        text-align: right;\n",
       "    }\n",
       "</style>\n",
       "<table border=\"1\" class=\"dataframe\">\n",
       "  <thead>\n",
       "    <tr style=\"text-align: right;\">\n",
       "      <th></th>\n",
       "      <th>attributes</th>\n",
       "      <th>min</th>\n",
       "      <th>max</th>\n",
       "      <th>range</th>\n",
       "      <th>mean</th>\n",
       "      <th>median</th>\n",
       "      <th>std</th>\n",
       "      <th>skew</th>\n",
       "      <th>kurtosis</th>\n",
       "    </tr>\n",
       "  </thead>\n",
       "  <tbody>\n",
       "    <tr>\n",
       "      <th>0</th>\n",
       "      <td>customer_id</td>\n",
       "      <td>15565701.0000</td>\n",
       "      <td>15815690.0000</td>\n",
       "      <td>249989.0000</td>\n",
       "      <td>15690940.5694</td>\n",
       "      <td>15690738.0000</td>\n",
       "      <td>71932.5892</td>\n",
       "      <td>0.0011</td>\n",
       "      <td>-1.1961</td>\n",
       "    </tr>\n",
       "    <tr>\n",
       "      <th>1</th>\n",
       "      <td>credit_score</td>\n",
       "      <td>350.0000</td>\n",
       "      <td>850.0000</td>\n",
       "      <td>500.0000</td>\n",
       "      <td>650.5288</td>\n",
       "      <td>652.0000</td>\n",
       "      <td>96.6485</td>\n",
       "      <td>-0.0716</td>\n",
       "      <td>-0.4257</td>\n",
       "    </tr>\n",
       "    <tr>\n",
       "      <th>2</th>\n",
       "      <td>age</td>\n",
       "      <td>18.0000</td>\n",
       "      <td>92.0000</td>\n",
       "      <td>74.0000</td>\n",
       "      <td>38.9218</td>\n",
       "      <td>37.0000</td>\n",
       "      <td>10.4873</td>\n",
       "      <td>1.0113</td>\n",
       "      <td>1.3953</td>\n",
       "    </tr>\n",
       "    <tr>\n",
       "      <th>3</th>\n",
       "      <td>tenure</td>\n",
       "      <td>0.0000</td>\n",
       "      <td>10.0000</td>\n",
       "      <td>10.0000</td>\n",
       "      <td>5.0128</td>\n",
       "      <td>5.0000</td>\n",
       "      <td>2.8920</td>\n",
       "      <td>0.0110</td>\n",
       "      <td>-1.1652</td>\n",
       "    </tr>\n",
       "    <tr>\n",
       "      <th>4</th>\n",
       "      <td>balance</td>\n",
       "      <td>0.0000</td>\n",
       "      <td>250898.0900</td>\n",
       "      <td>250898.0900</td>\n",
       "      <td>76485.8893</td>\n",
       "      <td>97198.5400</td>\n",
       "      <td>62394.2853</td>\n",
       "      <td>-0.1411</td>\n",
       "      <td>-1.4894</td>\n",
       "    </tr>\n",
       "    <tr>\n",
       "      <th>5</th>\n",
       "      <td>num_of_products</td>\n",
       "      <td>1.0000</td>\n",
       "      <td>4.0000</td>\n",
       "      <td>3.0000</td>\n",
       "      <td>1.5302</td>\n",
       "      <td>1.0000</td>\n",
       "      <td>0.5816</td>\n",
       "      <td>0.7456</td>\n",
       "      <td>0.5830</td>\n",
       "    </tr>\n",
       "    <tr>\n",
       "      <th>6</th>\n",
       "      <td>has_cr_card</td>\n",
       "      <td>0.0000</td>\n",
       "      <td>1.0000</td>\n",
       "      <td>1.0000</td>\n",
       "      <td>0.7055</td>\n",
       "      <td>1.0000</td>\n",
       "      <td>0.4558</td>\n",
       "      <td>-0.9018</td>\n",
       "      <td>-1.1870</td>\n",
       "    </tr>\n",
       "    <tr>\n",
       "      <th>7</th>\n",
       "      <td>is_active_member</td>\n",
       "      <td>0.0000</td>\n",
       "      <td>1.0000</td>\n",
       "      <td>1.0000</td>\n",
       "      <td>0.5151</td>\n",
       "      <td>1.0000</td>\n",
       "      <td>0.4998</td>\n",
       "      <td>-0.0604</td>\n",
       "      <td>-1.9967</td>\n",
       "    </tr>\n",
       "    <tr>\n",
       "      <th>8</th>\n",
       "      <td>estimated_salary</td>\n",
       "      <td>11.5800</td>\n",
       "      <td>199992.4800</td>\n",
       "      <td>199980.9000</td>\n",
       "      <td>100090.2399</td>\n",
       "      <td>100193.9150</td>\n",
       "      <td>57507.6172</td>\n",
       "      <td>0.0021</td>\n",
       "      <td>-1.1815</td>\n",
       "    </tr>\n",
       "    <tr>\n",
       "      <th>9</th>\n",
       "      <td>exited</td>\n",
       "      <td>0.0000</td>\n",
       "      <td>1.0000</td>\n",
       "      <td>1.0000</td>\n",
       "      <td>0.2037</td>\n",
       "      <td>0.0000</td>\n",
       "      <td>0.4027</td>\n",
       "      <td>1.4716</td>\n",
       "      <td>0.1657</td>\n",
       "    </tr>\n",
       "  </tbody>\n",
       "</table>\n",
       "</div>"
      ],
      "text/plain": [
       "         attributes           min           max       range          mean        median        std    skew  kurtosis\n",
       "0       customer_id 15565701.0000 15815690.0000 249989.0000 15690940.5694 15690738.0000 71932.5892  0.0011   -1.1961\n",
       "1      credit_score      350.0000      850.0000    500.0000      650.5288      652.0000    96.6485 -0.0716   -0.4257\n",
       "2               age       18.0000       92.0000     74.0000       38.9218       37.0000    10.4873  1.0113    1.3953\n",
       "3            tenure        0.0000       10.0000     10.0000        5.0128        5.0000     2.8920  0.0110   -1.1652\n",
       "4           balance        0.0000   250898.0900 250898.0900    76485.8893    97198.5400 62394.2853 -0.1411   -1.4894\n",
       "5   num_of_products        1.0000        4.0000      3.0000        1.5302        1.0000     0.5816  0.7456    0.5830\n",
       "6       has_cr_card        0.0000        1.0000      1.0000        0.7055        1.0000     0.4558 -0.9018   -1.1870\n",
       "7  is_active_member        0.0000        1.0000      1.0000        0.5151        1.0000     0.4998 -0.0604   -1.9967\n",
       "8  estimated_salary       11.5800   199992.4800 199980.9000   100090.2399   100193.9150 57507.6172  0.0021   -1.1815\n",
       "9            exited        0.0000        1.0000      1.0000        0.2037        0.0000     0.4027  1.4716    0.1657"
      ]
     },
     "execution_count": 64,
     "metadata": {},
     "output_type": "execute_result"
    }
   ],
   "source": [
    "metrics"
   ]
  },
  {
   "cell_type": "markdown",
   "id": "4a3eb456",
   "metadata": {},
   "source": [
    "### 1.5.2 Categorial Attributes"
   ]
  },
  {
   "cell_type": "code",
   "execution_count": 65,
   "id": "bf9cf7c6",
   "metadata": {
    "ExecuteTime": {
     "end_time": "2021-07-27T21:25:38.257639Z",
     "start_time": "2021-07-27T21:25:38.246775Z"
    }
   },
   "outputs": [
    {
     "data": {
      "text/plain": [
       "surname      2932\n",
       "geography       3\n",
       "gender          2\n",
       "dtype: int64"
      ]
     },
     "execution_count": 65,
     "metadata": {},
     "output_type": "execute_result"
    }
   ],
   "source": [
    "cat_attributes.apply( lambda x: x.unique().shape[0] )"
   ]
  },
  {
   "cell_type": "code",
   "execution_count": 81,
   "id": "89152dd5",
   "metadata": {
    "ExecuteTime": {
     "end_time": "2021-07-27T21:38:47.044662Z",
     "start_time": "2021-07-27T21:38:47.037168Z"
    }
   },
   "outputs": [],
   "source": [
    "# Customers that churn\n",
    "aux1 = df1[df1['exited'] == 0]\n",
    "\n",
    "# Customers that don't churn\n",
    "aux2 = df1[df1['exited'] == 1]"
   ]
  },
  {
   "cell_type": "code",
   "execution_count": 105,
   "id": "a92dfd6a",
   "metadata": {
    "ExecuteTime": {
     "end_time": "2021-07-27T21:57:20.429792Z",
     "start_time": "2021-07-27T21:57:20.203701Z"
    },
    "scrolled": false
   },
   "outputs": [
    {
     "data": {
      "image/png": "[encoded data removed]",
      "text/plain": [
       "<Figure size 1152x720 with 2 Axes>"
      ]
     },
     "metadata": {},
     "output_type": "display_data"
    }
   ],
   "source": [
    "# Number of churn customers per country\n",
    "churn_per_country = aux1[['geography', 'exited']].groupby('geography').count().reset_index()\n",
    "plt.figure( figsize=(16,10) )\n",
    "plt.subplot(1,2,1)\n",
    "sb.barplot(x='geography',y='exited', data=churn_per_country);\n",
    "plt.title('Number of churn customers per country');\n",
    "\n",
    "# Number customers that don't churn per country\n",
    "dont_churn_per_country = aux2[['geography', 'exited']].groupby('geography').count().reset_index()\n",
    "plt.subplot(1,2,2)\n",
    "sb.barplot(x='geography',y='exited', data=dont_churn_per_country);\n",
    "plt.title(\"Number customers that don't churn per country\");"
   ]
  },
  {
   "cell_type": "code",
   "execution_count": 109,
   "id": "8d9b99a7",
   "metadata": {
    "ExecuteTime": {
     "end_time": "2021-07-27T22:03:34.532397Z",
     "start_time": "2021-07-27T22:03:34.519434Z"
    }
   },
   "outputs": [
    {
     "data": {
      "text/html": [
       "<div>\n",
       "<style scoped>\n",
       "    .dataframe tbody tr th:only-of-type {\n",
       "        vertical-align: middle;\n",
       "    }\n",
       "\n",
       "    .dataframe tbody tr th {\n",
       "        vertical-align: top;\n",
       "    }\n",
       "\n",
       "    .dataframe thead th {\n",
       "        text-align: right;\n",
       "    }\n",
       "</style>\n",
       "<table border=\"1\" class=\"dataframe\">\n",
       "  <thead>\n",
       "    <tr style=\"text-align: right;\">\n",
       "      <th></th>\n",
       "      <th>exited</th>\n",
       "    </tr>\n",
       "    <tr>\n",
       "      <th>gender</th>\n",
       "      <th></th>\n",
       "    </tr>\n",
       "  </thead>\n",
       "  <tbody>\n",
       "    <tr>\n",
       "      <th>Female</th>\n",
       "      <td>4543</td>\n",
       "    </tr>\n",
       "    <tr>\n",
       "      <th>Male</th>\n",
       "      <td>5457</td>\n",
       "    </tr>\n",
       "  </tbody>\n",
       "</table>\n",
       "</div>"
      ],
      "text/plain": [
       "        exited\n",
       "gender        \n",
       "Female    4543\n",
       "Male      5457"
      ]
     },
     "execution_count": 109,
     "metadata": {},
     "output_type": "execute_result"
    }
   ],
   "source": [
    "# Gender Distribution\n",
    "df1[['gender', 'exited']].groupby('gender').count()"
   ]
  },
  {
   "cell_type": "code",
   "execution_count": 106,
   "id": "ab9d0980",
   "metadata": {
    "ExecuteTime": {
     "end_time": "2021-07-27T22:00:43.240408Z",
     "start_time": "2021-07-27T22:00:43.053038Z"
    }
   },
   "outputs": [
    {
     "data": {
      "image/png": "[encoded data removed]",
      "text/plain": [
       "<Figure size 1152x720 with 2 Axes>"
      ]
     },
     "metadata": {},
     "output_type": "display_data"
    }
   ],
   "source": [
    "# Number of churn customers per gender\n",
    "churn_per_gender = aux1[['gender', 'exited']].groupby('gender').count().reset_index()\n",
    "plt.figure( figsize=(16,10) )\n",
    "plt.subplot(1,2,1)\n",
    "sb.barplot(x='gender',y='exited', data=churn_per_gender);\n",
    "plt.title('Number of churn customers per gender');\n",
    "\n",
    "# Number customers that don't churn per gender\n",
    "dont_churn_per_gender = aux2[['gender', 'exited']].groupby('gender').count().reset_index()\n",
    "plt.subplot(1,2,2)\n",
    "sb.barplot(x='gender',y='exited', data=dont_churn_per_gender);\n",
    "plt.title(\"Number customers that don't churn per gender\");"
   ]
  }
 ],
 "metadata": {
  "kernelspec": {
   "display_name": "Python 3 (ipykernel)",
   "language": "python",
   "name": "python3"
  },
  "language_info": {
   "codemirror_mode": {
    "name": "ipython",
    "version": 3
   },
   "file_extension": ".py",
   "mimetype": "text/x-python",
   "name": "python",
   "nbconvert_exporter": "python",
   "pygments_lexer": "ipython3",
   "version": "3.8.10"
  }
 },
 "nbformat": 4,
 "nbformat_minor": 5
}
